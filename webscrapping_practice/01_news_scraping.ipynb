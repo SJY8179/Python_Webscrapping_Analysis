{
 "cells": [
  {
   "cell_type": "markdown",
   "id": "ceca3d77",
   "metadata": {},
   "source": [
    "1. 웹스크래핑 연습문제 \n",
    "1-1 Daum 뉴스기사 제목 스크래핑하기 \n",
    "질문 1. 아래의 url에서 뉴스기사의 링크와 제목을 출력하세요 \n",
    " # 다음 경제 뉴스 URL\n",
    "    url = 'https://news.daum.net/economy'\n",
    "\n",
    "    파일명: 01_news_scraping.ipynb\n",
    "       response를 utf-8로 encoding\n",
    "<ul>\n",
    "   <li> \n",
    "     <a href=\"링크\">\n",
    "     <div class=\"cont_thum\">\n",
    "        <strong class=\"tit_txt\">뉴스제목\n",
    "\n",
    "for li_tag in select('ul.list_newsheadline2 li'):\n",
    "    a_tag = li_tag.find('a')\n",
    "    link = a_tag['href']\t\n",
    "        \n",
    "    strong_tag = li_tag.select_one('div.cont_thumb strong.tit_txt')\n",
    "    title = strong_tag.text\n",
    "\n",
    "\n",
    "    실행결과: \n",
    "https://news.daum.net/economy\n",
    "<class 'requests.models.Response'>\n",
    "200\n",
    "<class 'bs4.element.ResultSet'> 9\n",
    "https://v.daum.net/v/20250408113412211\n",
    "트럼프 때문에 '공동 묘지' 된 금융시장, 투자 전문가 \"뉴스 보지 말라\" 왜?\n",
    "https://v.daum.net/v/20250408111800386\n",
    "한국 GDP 성장 기여도 95% 달하는 수출에 직격탄 [관세전쟁 후폭풍]\n",
    "https://v.daum.net/v/20250408111603311\n",
    "'검은 월요일' 1987년과 2025년\n",
    "https://v.daum.net/v/20250408111500208\n",
    "주왕산국립공원 1/3 삼킨 화마…1대뿐인 헬기 무용지물이었다\n",
    "https://v.daum.net/v/20250408110625822\n",
    "\"기금형 퇴직연금, 국민연금과 달라…사각지대 근로자 품어야\"[이슈인터뷰]\n",
    "https://v.daum.net/v/20250408110307619\n",
    "세수결손에 나라살림 104.8조 적자…GDP 대비 4% 넘어\n",
    "https://v.daum.net/v/20250408110021362\n",
    "지난해 국가채무 1175조로 ‘역대 최대’인데… 정부 “예상보다 덜 늘어”\n",
    "https://v.daum.net/v/20250408100455408\n",
    "올 2월에 첫 월세 60%? 5년 전에도 '월세 시대'였다 [분석+]\n",
    "https://v.daum.net/v/20250408093512932\n",
    "K-관광 로드쇼, '국교 정상화 60주년' 일본인 역대 최다 방한 이룬다\n"
   ]
  },
  {
   "cell_type": "code",
   "execution_count": null,
   "id": "abf36935",
   "metadata": {},
   "outputs": [],
   "source": [
    "import requests\n",
    "from bs4 import BeautifulSoup\n",
    "#1.스크패링하려는 URL과 헤더 정보 설정\n",
    "url = 'https://new.daum.net/'\n",
    "#Useragent 설정해주기: 로봇이 아닌 브라우저가 요청하는 것처럼\n",
    "headers = {\n",
    "    \"user-agent\": \"Mozilla/5.0 (Windows NT 10.0; Win64; x64) AppleWebKit/537.36 (KHTML, like Gecko) Chrome/104.0.0.0 Safari/537.36\"\n",
    "}\n",
    "#HTTP 요청 보내기\n",
    "response = requests.get(url,headers=headers)\n",
    "#요청이 성공했는지 확인(상태코드가 200 OK)\n",
    "if response.ok: \n",
    "    #Beautifulsoup객체로 변환\n",
    "    html=response.text\n",
    "    soup=BeautifulSoup(html, 'html.parser')\n",
    "    #CSS선택자를 사용해 원하는 요소 찾기\n",
    "    #뉴스메인의 제목(a태그)선택\n",
    "    a_tags = soup.selct('ul.list_newsissue > li > a.link_txt')\n",
    "    #찾은 요소 하니씩 텍스트만 추출하여 출력\n"
   ]
  }
 ],
 "metadata": {
  "kernelspec": {
   "display_name": "base",
   "language": "python",
   "name": "python3"
  },
  "language_info": {
   "codemirror_mode": {
    "name": "ipython",
    "version": 3
   },
   "file_extension": ".py",
   "mimetype": "text/x-python",
   "name": "python",
   "nbconvert_exporter": "python",
   "pygments_lexer": "ipython3",
   "version": "3.12.7"
  }
 },
 "nbformat": 4,
 "nbformat_minor": 5
}
