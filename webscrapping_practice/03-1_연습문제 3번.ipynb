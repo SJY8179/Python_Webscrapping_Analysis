{
 "cells": [
  {
   "cell_type": "code",
   "execution_count": 14,
   "id": "b48c9e6c",
   "metadata": {},
   "outputs": [
    {
     "name": "stdout",
     "output_type": "stream",
     "text": [
      "GSJ n_N\n"
     ]
    }
   ],
   "source": [
    "import requests\n",
    "import os\n",
    "from dotenv import load_dotenv\n",
    "from pprint import pprint\n",
    "\n",
    "# .env 파일에서 환경 변수 로드\n",
    "load_dotenv(dotenv_path='../.env')\n",
    "\n",
    "# 환경 변수에서 값 읽기\n",
    "client_id = os.getenv(\"NAVER_CLIENT_ID\")  # .env 파일의 NAVER_CLIENT_ID\n",
    "client_secret = os.getenv(\"NAVER_CLIENT_SECRET\")  # .env 파일의 NAVER_CLIENT_SECRET\n",
    "\n",
    "print(client_id[:3], client_secret[:3])"
   ]
  },
  {
   "cell_type": "code",
   "execution_count": 16,
   "id": "299d6750",
   "metadata": {},
   "outputs": [
    {
     "name": "stdout",
     "output_type": "stream",
     "text": [
      "10\n",
      "dict_keys(['title', 'link', 'image', 'author', 'discount', 'publisher', 'pubdate', 'isbn', 'description'])\n",
      "title = 처음이야? 파이썬 기초 (동영상 강의로 배우는 292개 코드 따라하기(핵심노트+오픈채팅+스터디))\n",
      "link = https://search.shopping.naver.com/book/catalog/55025621109\n",
      "image = https://shopping-phinf.pstatic.net/main_5502562/55025621109.20250610092448.jpg\n",
      "author = 윤영빈^오환^이용희\n",
      "discount = 18000\n",
      "publisher = 영진닷컴\n",
      "pubdate = 20250620\n",
      "isbn = 9788931478006\n",
      "description = 파이썬 완전 초보에게 추천합니다.\n",
      "파이썬을 처음 배우는 당신을 위한 가장 쉬운 기초 학습서!\n",
      "\n",
      "파이썬 입문자 여러분, 프로그래밍의 첫걸음을 내딛으신 것을 진심으로 환영합니다. 저희 또한 처음 이 길을 걸었을 때의 설렘과 막막함을 기억합니다. 이 책은 바로 그 경험을 바탕으로, 여러분이 파이썬의 기초를 쉽고 재미있게 익힐 수 있도록 함께 고민하며 만들었습니다.\n",
      "\n",
      "프로그래밍은 새로운 언어를 배우는 것과 같습니다. 처음에는 낯설고 어렵게 느껴질 수 있지만, 꾸준히 노력하면 어느새 원하는 것을 표현할 수 있게 됩니다. 파이썬은 입문자에게 비교적 친절한 언어이지만, 처음 배우는 과정은 누구에게나 쉽지 않습니다. 저희는 여러분의 어려움을 잘 이해하고 있으며, 이 책을 통해 기본적인 개념부터 차근차근 함께 헤쳐나갈 것입니다.\n",
      "\n",
      "이 책에서는 데이터를 담는 ‘자료형’, 프로그램의 흐름을 제어하는 ‘조건문’과 ‘반복문’, 효율적인 코드 작성을 위한 ‘함수’와 ‘클래스’, 그리고 코드를 체계적으로 관리하는 ‘모듈’과 ‘패키지’ 등 파이썬의 핵심 내용을 다룹니다. 각 장마다 쉬운 설명과 함께 실제 코드를 실행해 볼 수 있는 예제를 준비했으며, 연습문제를 통해 스스로 학습 내용을 점검하고 응용력을 키울 수 있도록 구성했습니다.\n",
      "\n",
      "파이썬은 웹 개발, 데이터 분석, 인공지능 등 다양한 분야에서 강력한 도구로 활용됩니다. 이 책을 통해 여러분은 파이썬의 기초를 튼튼히 다지고, 실제 문제를 해결하는 능력을 키울 수 있을 것입니다. 꼬물이와 함께 파이썬의 세계를 탐험하며, 여러분의 상상력을 코드로 펼쳐보세요. 학습 과정에서 어려움을 느낄 때도 있겠지만, 저희와 꼬물이를 믿고 함께 나아가면 분명 즐거운 결실을 맺을 수 있을 것입니다. 여러분의 파이썬 학습 여정을 항상 응원하겠습니다.\n",
      "\n",
      "[이 책의 특징]\n",
      "파이썬을 처음 시작하는 초보자 입장에서 시작하는 기초 입문서\n",
      "비전공자나 초보자들이 쉽게 배울 수 있도록 복잡한 용어나 이론 중심의 설명이 아닌, 실습 위주의 내용으로 구성된 기초 입문서입니다.\n",
      "\n",
      "단계별 실습 문제와 소스코드 파일 제공\n",
      "각 장마다 소스코드 따라하기와 실습 문제를 제공하여 학습 성과를 점검하고, 이를 깃허브에서 다운로드 받을 수 있도록 하였습니다.\n",
      "\n",
      "동영상 강의와 연동된 학습 지원\n",
      "모든 소스코드를 동영상으로 따라 할 수 있도록 동영상 강의를 제공하고 있으며, 이를 통해 파이썬의 기초 내용에 대해 이해할 수 있도록 하였습니다.\n",
      "title = 모두의 인공지능 with 파이썬 (누구나 쉽게 시작하는 AI 기초 프로그래밍)\n",
      "link = https://search.shopping.naver.com/book/catalog/55813672861\n",
      "image = https://shopping-phinf.pstatic.net/main_5581367/55813672861.20250717071733.jpg\n",
      "author = 이영호\n",
      "discount = 27000\n",
      "publisher = 길벗\n",
      "pubdate = 20250725\n",
      "isbn = 9791140714995\n",
      "description = 가장 쉬운 인공지능 입문서, \n",
      "생성형 AI를 반영해 한층 더 탄탄하게 돌아왔다!\n",
      "\n",
      "그동안 인공지능 입문서로 제 역할을 톡톡히 해낸 『모두의 인공지능 with 파이썬』이 요즘 주목 받고 있는 생성형 인공지능을 담아 기존 내용을 보강하여 개정 2판으로 돌아왔다. 생성형 인공지능의 개념과 원리 등 새로운 내용을 수록했고, LLM을 불러와서 실행해 보고 RAG, 파인튜닝까지 경험할 수 있게 구성했다. 생성형 인공지능을 위한 파이썬 문법을 추가했으며, 코드 한줄 한줄 자세히 설명하기 때문에 파이썬을 잘 몰라도 충분히 학습할 수 있다. AI를 제대로 이해하고 활용하고 싶다면 지금 이 책부터 펼쳐보자!\n",
      "title = 혼자 공부하는 파이썬 (1:1 과외하듯 배우는 프로그래밍 자습서)\n",
      "link = https://search.shopping.naver.com/book/catalog/32507605957\n",
      "image = https://shopping-phinf.pstatic.net/main_3250760/32507605957.20230509170119.jpg\n",
      "author = 윤인성\n",
      "discount = 19800\n",
      "publisher = 한빛미디어\n",
      "pubdate = 20220601\n",
      "isbn = 9791162245651\n",
      "description = 혼자 해도 충분하다! 1:1 과외하듯 배우는 파이썬 프로그래밍 자습서\n",
      "\n",
      "『혼자 공부하는 파이썬』이 더욱 흥미있고 알찬 내용으로 개정되었습니다. 프로그래밍이 정말 처음인 입문자도 따라갈 수 있는 친절한 설명과 단계별 학습은 그대로! 혼자 공부하더라도 체계적으로 계획을 세워 학습할 수 있도록 ‘혼공 계획표’를 새롭게 추가했습니다. 또한 입문자가 자주 물어보는 질문과 오류 해결 방법을 적재적소에 배치하여 예상치 못한 문제에 부딪혀도 좌절하지 않고 끝까지 완독할 수 있도록 도와줍니다. 단순한 문법 암기와 코딩 따라하기에 지쳤다면, 새로운 혼공파와 함께 ‘누적 예제’와 ‘도전 문제’로 프로그래밍의 신세계를 경험해 보세요! 배운 내용을 씹고 뜯고 맛보고 즐기다 보면 응용력은 물론 알고리즘 사고력까지 키워 코딩 실력이 쑥쑥 성장할 것입니다.\n",
      "\n",
      "이 책은 독학으로 파이썬을 배우는 입문자가 ‘꼭 필요한 내용을 제대로 학습’할 수 있도록 구성했습니다. 뭘 모르는지조차 모르는 입문자의 막연한 마음에 십분 공감하여 과외 선생님이 알려주듯 친절하게, 핵심적인 내용만 콕콕 집어줍니다. 책의 첫 페이지를 펼쳐서 마지막 페이지를 덮을 때까지, 혼자서도 충분히 파이썬을 배울 수 있다는 자신감과 확신이 계속될 것입니다!\n",
      "\n",
      "베타리더와 함께 입문자에게 맞는 난이도, 분량, 학습 요소 등을 적극 반영했습니다. 어려운 용어와 개념은 한 번 더 풀어쓰고, 복잡한 설명은 눈에 잘 들어오는 그림으로 풀어냈습니다. ‘혼자 공부해 본’ 여러 입문자의 초심과 눈높이가 책 곳곳에 반영된 것이 이 책의 가장 큰 장점입니다.\n"
     ]
    }
   ],
   "source": [
    "headers = {\n",
    "    'X-Naver-Client-Id': client_id,\n",
    "    'X-Naver-Client-Secret': client_secret,\n",
    "}\n",
    "\n",
    "# query string 문자열을 dict 선언\n",
    "payload = {\n",
    "    'query': '파이썬',\n",
    "    'display': 10,\n",
    "    'sort': 'sim'\n",
    "}\n",
    "\n",
    "url = 'https://openapi.naver.com/v1/search/book.json' #?query=파이썬&display=100&sort=sim\n",
    "\n",
    "# requests get(url, params, headers) 요청 \n",
    "res = requests.get(url, params=payload, headers=headers)\n",
    "if res.ok:\n",
    "    # json() 함수로 응답 결과 가져오기\n",
    "    #pprint(res.json())\n",
    "    if res.json():\n",
    "        items_data = res.json()['items']\n",
    "        #\n",
    "        print(len(items_data)) # [{},{},{}]\n",
    "        #pprint(items_data)\n",
    "        print(items_data[0].keys())\n",
    "\n",
    "        for item in items_data[:3]:\n",
    "            for key,value in item.items():\n",
    "                    print(f'{key} = {value}')"
   ]
  }
 ],
 "metadata": {
  "kernelspec": {
   "display_name": "base",
   "language": "python",
   "name": "python3"
  },
  "language_info": {
   "codemirror_mode": {
    "name": "ipython",
    "version": 3
   },
   "file_extension": ".py",
   "mimetype": "text/x-python",
   "name": "python",
   "nbconvert_exporter": "python",
   "pygments_lexer": "ipython3",
   "version": "3.12.7"
  }
 },
 "nbformat": 4,
 "nbformat_minor": 5
}
