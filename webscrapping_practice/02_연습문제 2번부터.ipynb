{
 "cells": [
  {
   "cell_type": "markdown",
   "id": "988b89f4",
   "metadata": {},
   "source": [
    "2-1. Nate 뉴스기사 제목 스크래핑하기 (필수)\n",
    "https://news.nate.com/recent?mid=n0100\n",
    "최신뉴스, 정치 , 경제, 사회, 세계, IT/과학 \n",
    "6개의 섹션의 뉴스를 출력하는 함수를 생성하여 스크래핑 하기\n",
    "\n",
    "Image, 기사제목, 기사링크\n",
    "\n",
    "뉴스기사의 Image를 출력 하세요 \n",
    "1) Image의 절대경로와 상대 경로를 합치려면 urljoin 함수를 사용하세요.\n",
    "    from urllib.parse import urljoin\n",
    "\n",
    "2) Image 출력은 Image 클래스와 display 함수를 사용하세요.\n",
    "    from IPython.display import Image, display\n",
    "\n",
    "3) img 엘리먼트의 존재 여부를 체크하신 후에 src 속성의 이미지를 경로를 추출하기\n",
    "  => Image 가 없는 뉴스도 있기 때문에 \n",
    "\n"
   ]
  },
  {
   "cell_type": "code",
   "execution_count": 19,
   "id": "4aa4b0b2",
   "metadata": {},
   "outputs": [
    {
     "name": "stdout",
     "output_type": "stream",
     "text": [
      "{'최신뉴스': 'n0100', '정치': 'n0200', '경제': 'n0300', '사회': 'n0400', '세계': 'n0500', 'IT/과학': 'n0600'}\n",
      "https://news.nate.com/recent?mid=n0300\n",
      "<class 'requests.models.Response'>\n",
      "200\n",
      "======> https://news.nate.com/recent?mid=n0300 경제 뉴스 <======\n",
      "20\n",
      "============>> 1\n",
      "https://news.nate.com/view/20250725n08859?mid=n0300\n",
      "https://thumbnews.nateimg.co.kr/news90///news.nateimg.co.kr/orgImg/mk/2025/07/25/news-p.v1.20250725.2423242a91a94e7293c029682ed5ab55_P1.png\n"
     ]
    },
    {
     "data": {
      "text/html": [
       "<img src=\"https://thumbnews.nateimg.co.kr/news90///news.nateimg.co.kr/orgImg/mk/2025/07/25/news-p.v1.20250725.2423242a91a94e7293c029682ed5ab55_P1.png\"/>"
      ],
      "text/plain": [
       "<IPython.core.display.Image object>"
      ]
     },
     "metadata": {},
     "output_type": "display_data"
    },
    {
     "name": "stdout",
     "output_type": "stream",
     "text": [
      "LG, SK move to resume transactions\n",
      "============>> 2\n",
      "https://news.nate.com/view/20250725n08858?mid=n0300\n",
      "https://thumbnews.nateimg.co.kr/news90///news.nateimg.co.kr/orgImg/mw/2025/07/25/2025072509142277111_1.jpg\n"
     ]
    },
    {
     "data": {
      "text/html": [
       "<img src=\"https://thumbnews.nateimg.co.kr/news90///news.nateimg.co.kr/orgImg/mw/2025/07/25/2025072509142277111_1.jpg\"/>"
      ],
      "text/plain": [
       "<IPython.core.display.Image object>"
      ]
     },
     "metadata": {},
     "output_type": "display_data"
    },
    {
     "name": "stdout",
     "output_type": "stream",
     "text": [
      "[아침밥] KB증권 \"SK하이닉스, 실적 성장 지속…경쟁사와 차별\"\n",
      "============>> 3\n",
      "https://news.nate.com/view/20250725n08857?mid=n0300\n",
      "https://thumbnews.nateimg.co.kr/news90///news.nateimg.co.kr/orgImg/mk/2025/07/25/news-p.v1.20250725.bbf84bb69a80435c99cd89e169311e23_P1.jpg\n"
     ]
    },
    {
     "data": {
      "text/html": [
       "<img src=\"https://thumbnews.nateimg.co.kr/news90///news.nateimg.co.kr/orgImg/mk/2025/07/25/news-p.v1.20250725.bbf84bb69a80435c99cd89e169311e23_P1.jpg\"/>"
      ],
      "text/plain": [
       "<IPython.core.display.Image object>"
      ]
     },
     "metadata": {},
     "output_type": "display_data"
    },
    {
     "name": "stdout",
     "output_type": "stream",
     "text": [
      "KB Financial achieves record net profit despite declining interest income\n",
      "============>> 4\n",
      "https://news.nate.com/view/20250725n08856?mid=n0300\n",
      "https://thumbnews.nateimg.co.kr/news90///news.nateimg.co.kr/orgImg/mw/2025/07/25/2025072509324755253_1.jpg\n"
     ]
    },
    {
     "data": {
      "text/html": [
       "<img src=\"https://thumbnews.nateimg.co.kr/news90///news.nateimg.co.kr/orgImg/mw/2025/07/25/2025072509324755253_1.jpg\"/>"
      ],
      "text/plain": [
       "<IPython.core.display.Image object>"
      ]
     },
     "metadata": {},
     "output_type": "display_data"
    },
    {
     "name": "stdout",
     "output_type": "stream",
     "text": [
      "[아침밥]미래에셋 \"현대제철, 아쉬운 별도 손익에도 긍정적\"\n",
      "============>> 5\n",
      "https://news.nate.com/view/20250725n08855?mid=n0300\n",
      "https://thumbnews.nateimg.co.kr/news90///news.nateimg.co.kr/orgImg/mw/2025/07/25/2025072508191181061_1.jpg\n"
     ]
    },
    {
     "data": {
      "text/html": [
       "<img src=\"https://thumbnews.nateimg.co.kr/news90///news.nateimg.co.kr/orgImg/mw/2025/07/25/2025072508191181061_1.jpg\"/>"
      ],
      "text/plain": [
       "<IPython.core.display.Image object>"
      ]
     },
     "metadata": {},
     "output_type": "display_data"
    },
    {
     "name": "stdout",
     "output_type": "stream",
     "text": [
      "[아침밥] 다올투자증권 \"삼성중공업, 하반기 기대…목표주가 상향\"\n",
      "============>> 6\n",
      "https://news.nate.com/view/20250725n08853?mid=n0300\n",
      "https://thumbnews.nateimg.co.kr/news90///news.nateimg.co.kr/orgImg/mk/2025/07/25/news-p.v1.20250725.49bea789d1ef4464ba2df4a682d9dffe_P1.png\n"
     ]
    },
    {
     "data": {
      "text/html": [
       "<img src=\"https://thumbnews.nateimg.co.kr/news90///news.nateimg.co.kr/orgImg/mk/2025/07/25/news-p.v1.20250725.49bea789d1ef4464ba2df4a682d9dffe_P1.png\"/>"
      ],
      "text/plain": [
       "<IPython.core.display.Image object>"
      ]
     },
     "metadata": {},
     "output_type": "display_data"
    },
    {
     "name": "stdout",
     "output_type": "stream",
     "text": [
      "Heatflation forces Seoul Milk to halt flagship carrot juice production\n",
      "============>> 7\n",
      "https://news.nate.com/view/20250725n08852?mid=n0300\n",
      "https://thumbnews.nateimg.co.kr/news90///news.nateimg.co.kr/orgImg/na/2025/07/25/7412810_high.jpg\n"
     ]
    },
    {
     "data": {
      "text/html": [
       "<img src=\"https://thumbnews.nateimg.co.kr/news90///news.nateimg.co.kr/orgImg/na/2025/07/25/7412810_high.jpg\"/>"
      ],
      "text/plain": [
       "<IPython.core.display.Image object>"
      ]
     },
     "metadata": {},
     "output_type": "display_data"
    },
    {
     "name": "stdout",
     "output_type": "stream",
     "text": [
      "삼성전자, '갤럭시 Z 폴드7·Z 플립7', '워치8 시리즈' 국내출시\n",
      "============>> 8\n",
      "https://news.nate.com/view/20250725n08851?mid=n0300\n",
      "https://thumbnews.nateimg.co.kr/news90///news.nateimg.co.kr/orgImg/mk/2025/07/25/news-p.v1.20250725.c9f79ad1430b4455bfdd3b6605f420e1_P1.png\n"
     ]
    },
    {
     "data": {
      "text/html": [
       "<img src=\"https://thumbnews.nateimg.co.kr/news90///news.nateimg.co.kr/orgImg/mk/2025/07/25/news-p.v1.20250725.c9f79ad1430b4455bfdd3b6605f420e1_P1.png\"/>"
      ],
      "text/plain": [
       "<IPython.core.display.Image object>"
      ]
     },
     "metadata": {},
     "output_type": "display_data"
    },
    {
     "name": "stdout",
     "output_type": "stream",
     "text": [
      "Hyundai Motor CEO urges unity as U.S. tariffs drag down profits\n",
      "============>> 9\n",
      "https://news.nate.com/view/20250725n08850?mid=n0300\n",
      "https://thumbnews.nateimg.co.kr/news90///news.nateimg.co.kr/orgImg/na/2025/07/25/7412809_high.jpg\n"
     ]
    },
    {
     "data": {
      "text/html": [
       "<img src=\"https://thumbnews.nateimg.co.kr/news90///news.nateimg.co.kr/orgImg/na/2025/07/25/7412809_high.jpg\"/>"
      ],
      "text/plain": [
       "<IPython.core.display.Image object>"
      ]
     },
     "metadata": {},
     "output_type": "display_data"
    },
    {
     "name": "stdout",
     "output_type": "stream",
     "text": [
      "삼성전자, '갤럭시 Z 폴드7·Z 플립7', '워치8 시리즈' 국내출시\n",
      "============>> 10\n",
      "https://news.nate.com/view/20250725n08848?mid=n0300\n",
      "https://thumbnews.nateimg.co.kr/news90///news.nateimg.co.kr/orgImg/mk/2025/07/25/news-p.v1.20250725.4eb3f9d088524656863f5c03b06aa128_P1.png\n"
     ]
    },
    {
     "data": {
      "text/html": [
       "<img src=\"https://thumbnews.nateimg.co.kr/news90///news.nateimg.co.kr/orgImg/mk/2025/07/25/news-p.v1.20250725.4eb3f9d088524656863f5c03b06aa128_P1.png\"/>"
      ],
      "text/plain": [
       "<IPython.core.display.Image object>"
      ]
     },
     "metadata": {},
     "output_type": "display_data"
    },
    {
     "name": "stdout",
     "output_type": "stream",
     "text": [
      "LG Electronics announces first-ever treasury share cancellation\n",
      "============>> 11\n",
      "https://news.nate.com/view/20250725n08846?mid=n0300\n",
      "https://thumbnews.nateimg.co.kr/news90///news.nateimg.co.kr/orgImg/mk/2025/07/25/news-p.v1.20250725.301842d7cdc049928bf23e3d0d94d03c_P1.png\n"
     ]
    },
    {
     "data": {
      "text/html": [
       "<img src=\"https://thumbnews.nateimg.co.kr/news90///news.nateimg.co.kr/orgImg/mk/2025/07/25/news-p.v1.20250725.301842d7cdc049928bf23e3d0d94d03c_P1.png\"/>"
      ],
      "text/plain": [
       "<IPython.core.display.Image object>"
      ]
     },
     "metadata": {},
     "output_type": "display_data"
    },
    {
     "name": "stdout",
     "output_type": "stream",
     "text": [
      "Hyundai Glovis posts record-high quarterly sales on strong ocean shipping biz\n",
      "============>> 12\n",
      "https://news.nate.com/view/20250725n08845?mid=n0300\n",
      "https://thumbnews.nateimg.co.kr/news90///news.nateimg.co.kr/orgImg/na/2025/07/25/7412808_high.jpg\n"
     ]
    },
    {
     "data": {
      "text/html": [
       "<img src=\"https://thumbnews.nateimg.co.kr/news90///news.nateimg.co.kr/orgImg/na/2025/07/25/7412808_high.jpg\"/>"
      ],
      "text/plain": [
       "<IPython.core.display.Image object>"
      ]
     },
     "metadata": {},
     "output_type": "display_data"
    },
    {
     "name": "stdout",
     "output_type": "stream",
     "text": [
      "삼성전자, '갤럭시 Z 폴드7·Z 플립7', '워치8 시리즈' 국내출시\n",
      "============>> 13\n",
      "https://news.nate.com/view/20250725n08840?mid=n0300\n",
      "https://thumbnews.nateimg.co.kr/news90///news.nateimg.co.kr/orgImg/cb/2025/07/25/202507250951246435_0.jpg\n"
     ]
    },
    {
     "data": {
      "text/html": [
       "<img src=\"https://thumbnews.nateimg.co.kr/news90///news.nateimg.co.kr/orgImg/cb/2025/07/25/202507250951246435_0.jpg\"/>"
      ],
      "text/plain": [
       "<IPython.core.display.Image object>"
      ]
     },
     "metadata": {},
     "output_type": "display_data"
    },
    {
     "name": "stdout",
     "output_type": "stream",
     "text": [
      "\"일상에서 기부\"…은행권 사회공헌 뱅크잇 모바일 앱 출시\n",
      "============>> 14\n",
      "https://news.nate.com/view/20250725n08839?mid=n0300\n",
      "https://thumbnews.nateimg.co.kr/news90///news.nateimg.co.kr/orgImg/mk/2025/07/25/my-p.v1.20250725.b1f0fe43eb9b479c931b820c6b670681_P1.png\n"
     ]
    },
    {
     "data": {
      "text/html": [
       "<img src=\"https://thumbnews.nateimg.co.kr/news90///news.nateimg.co.kr/orgImg/mk/2025/07/25/my-p.v1.20250725.b1f0fe43eb9b479c931b820c6b670681_P1.png\"/>"
      ],
      "text/plain": [
       "<IPython.core.display.Image object>"
      ]
     },
     "metadata": {},
     "output_type": "display_data"
    },
    {
     "name": "stdout",
     "output_type": "stream",
     "text": [
      "Korea's first direct power purchase signals shift away from KEPCO\n",
      "============>> 15\n",
      "https://news.nate.com/view/20250725n08838?mid=n0300\n",
      "https://thumbnews.nateimg.co.kr/news90///news.nateimg.co.kr/orgImg/no/2025/07/25/SSC_20250725095555_V.jpg\n"
     ]
    },
    {
     "data": {
      "text/html": [
       "<img src=\"https://thumbnews.nateimg.co.kr/news90///news.nateimg.co.kr/orgImg/no/2025/07/25/SSC_20250725095555_V.jpg\"/>"
      ],
      "text/plain": [
       "<IPython.core.display.Image object>"
      ]
     },
     "metadata": {},
     "output_type": "display_data"
    },
    {
     "name": "stdout",
     "output_type": "stream",
     "text": [
      "진해 중견 조선사 '케이조선' 새 주인 찾기 돌입…매각 주관사 선정\n",
      "============>> 16\n",
      "https://news.nate.com/view/20250725n08831?mid=n0300\n",
      "https://thumbnews.nateimg.co.kr/news90///news.nateimg.co.kr/orgImg/mk/2025/07/25/news-p.v1.20250725.3d01b163fab349799e2600500a811547_P1.png\n"
     ]
    },
    {
     "data": {
      "text/html": [
       "<img src=\"https://thumbnews.nateimg.co.kr/news90///news.nateimg.co.kr/orgImg/mk/2025/07/25/news-p.v1.20250725.3d01b163fab349799e2600500a811547_P1.png\"/>"
      ],
      "text/plain": [
       "<IPython.core.display.Image object>"
      ]
     },
     "metadata": {},
     "output_type": "display_data"
    },
    {
     "name": "stdout",
     "output_type": "stream",
     "text": [
      "JB Financial acquires KB Bukopin Finance\n",
      "============>> 17\n",
      "https://news.nate.com/view/20250725n08821?mid=n0300\n",
      "https://thumbnews.nateimg.co.kr/news90///news.nateimg.co.kr/orgImg/yt/2025/07/25/AKR20250725048800003_01_i.jpg\n"
     ]
    },
    {
     "data": {
      "text/html": [
       "<img src=\"https://thumbnews.nateimg.co.kr/news90///news.nateimg.co.kr/orgImg/yt/2025/07/25/AKR20250725048800003_01_i.jpg\"/>"
      ],
      "text/plain": [
       "<IPython.core.display.Image object>"
      ]
     },
     "metadata": {},
     "output_type": "display_data"
    },
    {
     "name": "stdout",
     "output_type": "stream",
     "text": [
      "[게시판] 한국건설산업연구원, 내달 '건설산업 규제 개혁' 세미나\n",
      "============>> 18\n",
      "https://news.nate.com/view/20250725n08820?mid=n0300\n",
      "https://thumbnews.nateimg.co.kr/news90///news.nateimg.co.kr/orgImg/ni/2025/07/25/2507250947364660.jpg\n"
     ]
    },
    {
     "data": {
      "text/html": [
       "<img src=\"https://thumbnews.nateimg.co.kr/news90///news.nateimg.co.kr/orgImg/ni/2025/07/25/2507250947364660.jpg\"/>"
      ],
      "text/plain": [
       "<IPython.core.display.Image object>"
      ]
     },
     "metadata": {},
     "output_type": "display_data"
    },
    {
     "name": "stdout",
     "output_type": "stream",
     "text": [
      "네이버, 고양이의 날 맞아 반려묘 사진 대회 개최\n",
      "============>> 19\n",
      "https://news.nate.com/view/20250725n08818?mid=n0300\n",
      "https://thumbnews.nateimg.co.kr/news90///news.nateimg.co.kr/orgImg/hr/2025/07/25/news-p.v1.20250725.5e321e21f7dd4ad8a4c9288b288c822d_P1.jpg\n"
     ]
    },
    {
     "data": {
      "text/html": [
       "<img src=\"https://thumbnews.nateimg.co.kr/news90///news.nateimg.co.kr/orgImg/hr/2025/07/25/news-p.v1.20250725.5e321e21f7dd4ad8a4c9288b288c822d_P1.jpg\"/>"
      ],
      "text/plain": [
       "<IPython.core.display.Image object>"
      ]
     },
     "metadata": {},
     "output_type": "display_data"
    },
    {
     "name": "stdout",
     "output_type": "stream",
     "text": [
      "코레일, 외국인 철도관광 활성화 위한 간담회 개최\n",
      "============>> 20\n",
      "https://news.nate.com/view/20250725n08816?mid=n0300\n",
      "https://thumbnews.nateimg.co.kr/news90///news.nateimg.co.kr/orgImg/fr/2025/07/25/art_697620_1753404813.jpg\n"
     ]
    },
    {
     "data": {
      "text/html": [
       "<img src=\"https://thumbnews.nateimg.co.kr/news90///news.nateimg.co.kr/orgImg/fr/2025/07/25/art_697620_1753404813.jpg\"/>"
      ],
      "text/plain": [
       "<IPython.core.display.Image object>"
      ]
     },
     "metadata": {},
     "output_type": "display_data"
    },
    {
     "name": "stdout",
     "output_type": "stream",
     "text": [
      "'상생협력 모델 구축' 한화오션, 사외협력사 시상식\n"
     ]
    }
   ],
   "source": [
    "import requests\n",
    "from bs4 import BeautifulSoup\n",
    "from urllib.parse import urljoin\n",
    "from IPython.display import Image, display\n",
    "\n",
    "section_dict = {'최신뉴스':'n0100','정치':'n0200','경제':'n0300','사회':'n0400',\\\n",
    "                '세계':'n0500','IT/과학':'n0600'}\n",
    "print(section_dict)\n",
    "\n",
    "def print_news(section_name):    \n",
    "    m_id = section_dict[section_name]\n",
    "\n",
    "    url = f'https://news.nate.com/recent?mid={m_id}'\n",
    "    print(url)\n",
    "\n",
    "    req_header = {\n",
    "        'user-agent': 'Mozilla/5.0 (Windows NT 10.0; Win64; x64) AppleWebKit/537.36 (KHTML, like Gecko) Chrome/104.0.0.0 Safari/537.36'\n",
    "    }\n",
    "\n",
    "    res = requests.get(url, headers=req_header)\n",
    "    print(type(res))\n",
    "    print(res.status_code)\n",
    "\n",
    "    if res.ok:\n",
    "        res.encoding = 'euc-kr'\n",
    "        html = res.text\n",
    "        soup = BeautifulSoup(html, 'html.parser')\n",
    "\n",
    "        print(f'======> {url} {section_name} 뉴스 <======')   \n",
    "\n",
    "        tags = soup.select(\"div.postListType.noListTitle div.mlt01\")\n",
    "        print(len(tags))\n",
    "\n",
    "        for idx,div_tag in enumerate(tags,1): \n",
    "            print(f'============>> {idx}')       \n",
    "            a_tag = div_tag.find('a')\n",
    "            a_join_url = urljoin(url,a_tag['href'])\n",
    "            print(a_join_url)\n",
    "\n",
    "            img_tag = div_tag.select_one('span.ib img')\n",
    "            if img_tag:\n",
    "                photo_url = urljoin(url,img_tag['src'])\n",
    "                print(photo_url)\n",
    "                display(Image(url=photo_url))\n",
    "\n",
    "            h2_tag = div_tag.select_one('span.tb h2.tit')\n",
    "            title = h2_tag.text\n",
    "            print(title)\n",
    "\n",
    "    else:\n",
    "        print(f'에러코드 = {res.status_code}')\n",
    "\n",
    "print_news('경제')"
   ]
  },
  {
   "cell_type": "markdown",
   "id": "1fc533c6",
   "metadata": {},
   "source": [
    "2-2. 하나의 네이버 웹툰과 1개의 회차에 대한 Image 다운로드 하기 (필수)\n",
    ":  하나의 웹툰의 제목(title)과 회차번호(no),회차의URL(url) 을 입력으로 받는 함수를 선언합니다. \n",
    "   def download_one_episode(title,no,url):\n",
    "\n",
    "아래와 같이 호출합니다.\n",
    "download_one_episode('일렉시드',341,'https://comic.naver.com/webtoon/detail?titleId=717481&no=341&week=wed')\n",
    "\n",
    "img\\일렉시드\\341 디렉토리가 생성되며 , \n",
    "그 디렉토리 아래에 웹툰 image들이 다운로드 되도록 해주세요.\n"
   ]
  },
  {
   "cell_type": "code",
   "execution_count": null,
   "id": "8540af63",
   "metadata": {},
   "outputs": [
    {
     "name": "stdout",
     "output_type": "stream",
     "text": [
      "'img\\광마회귀\\160' 디렉토리를 생성했습니다.\n",
      "이미지 다운로드를 시작합니다...\n",
      "다운로드 완료: 001.jpg\n",
      "다운로드 완료: 002.jpg\n",
      "다운로드 완료: 003.jpg\n",
      "다운로드 완료: 004.jpg\n",
      "다운로드 완료: 005.jpg\n",
      "다운로드 완료: 006.jpg\n",
      "다운로드 완료: 007.jpg\n",
      "다운로드 완료: 008.jpg\n",
      "다운로드 완료: 009.jpg\n",
      "다운로드 완료: 010.jpg\n",
      "다운로드 완료: 011.jpg\n",
      "다운로드 완료: 012.jpg\n",
      "다운로드 완료: 013.jpg\n",
      "다운로드 완료: 014.jpg\n",
      "다운로드 완료: 015.jpg\n",
      "다운로드 완료: 016.jpg\n",
      "다운로드 완료: 017.jpg\n",
      "다운로드 완료: 018.jpg\n",
      "다운로드 완료: 019.jpg\n",
      "다운로드 완료: 020.jpg\n",
      "다운로드 완료: 021.jpg\n",
      "다운로드 완료: 022.jpg\n",
      "다운로드 완료: 023.jpg\n",
      "다운로드 완료: 024.jpg\n",
      "다운로드 완료: 025.jpg\n",
      "다운로드 완료: 026.jpg\n",
      "다운로드 완료: 027.jpg\n",
      "다운로드 완료: 028.jpg\n",
      "다운로드 완료: 029.jpg\n",
      "다운로드 완료: 030.jpg\n",
      "다운로드 완료: 031.jpg\n",
      "다운로드 완료: 032.jpg\n",
      "다운로드 완료: 033.jpg\n",
      "다운로드 완료: 034.jpg\n",
      "다운로드 완료: 035.jpg\n",
      "다운로드 완료: 036.jpg\n",
      "다운로드 완료: 037.jpg\n",
      "다운로드 완료: 038.jpg\n",
      "다운로드 완료: 039.jpg\n",
      "다운로드 완료: 040.jpg\n",
      "다운로드 완료: 041.jpg\n",
      "다운로드 완료: 042.jpg\n",
      "다운로드 완료: 043.jpg\n",
      "다운로드 완료: 044.jpg\n",
      "다운로드 완료: 045.jpg\n",
      "다운로드 완료: 046.jpg\n",
      "다운로드 완료: 047.jpg\n",
      "다운로드 완료: 048.jpg\n",
      "다운로드 완료: 049.jpg\n",
      "다운로드 완료: 050.jpg\n",
      "다운로드 완료: 051.jpg\n",
      "다운로드 완료: 052.jpg\n",
      "다운로드 완료: 053.jpg\n",
      "다운로드 완료: 054.jpg\n",
      "다운로드 완료: 055.jpg\n",
      "다운로드 완료: 056.jpg\n",
      "다운로드 완료: 057.jpg\n",
      "다운로드 완료: 058.jpg\n",
      "다운로드 완료: 059.jpg\n",
      "다운로드 완료: 060.jpg\n",
      "다운로드 완료: 061.jpg\n",
      "다운로드 완료: 062.jpg\n",
      "\n",
      "총 62개의 이미지를 'img\\광마회귀\\160'에 성공적으로 다운로드했습니다. 🎉\n"
     ]
    }
   ],
   "source": [
    "import os\n",
    "import requests\n",
    "from bs4 import BeautifulSoup\n",
    "\n",
    "def download_one_episode(title, no, url):\n",
    "    \"\"\"\n",
    "    네이버 웹툰의 한 회차 이미지를 모두 다운로드합니다.\n",
    "\n",
    "    :param title: 웹툰 제목 (폴더명으로 사용)\n",
    "    :param no: 회차 번호 (폴더명으로 사용)\n",
    "    :param url: 다운로드할 회차의 URL\n",
    "    \"\"\"\n",
    "    # 저장할 디렉토리 경로 설정 및 생성\n",
    "    # 예: img/광마회귀/160\n",
    "    save_path = os.path.join('img', title, str(no))\n",
    "    os.makedirs(save_path, exist_ok=True)\n",
    "    print(f\"'{save_path}' 디렉토리를 생성했습니다.\")\n",
    "\n",
    "    # 웹툰 페이지에 접속하기 위한 헤더 설정 (차단 방지)\n",
    "    headers = {\n",
    "        'User-Agent': 'Mozilla/5.0 (Windows NT 10.0; Win64; x64) AppleWebKit/537.36 (KHTML, like Gecko) Chrome/91.0.4472.124 Safari/537.36',\n",
    "        'Referer': url\n",
    "    }\n",
    "\n",
    "    # 웹툰 페이지의 HTML 가져오기\n",
    "    try:\n",
    "        response = requests.get(url, headers=headers)\n",
    "        response.raise_for_status()  # HTTP 오류가 발생하면 예외 발생\n",
    "    except requests.exceptions.RequestException as e:\n",
    "        print(f\"오류: 웹 페이지를 가져올 수 없습니다. {e}\")\n",
    "        return\n",
    "\n",
    "    # HTML 파싱하여 이미지 URL 추출\n",
    "    soup = BeautifulSoup(response.text, 'html.parser')\n",
    "    image_tags = soup.select('.wt_viewer img') # 웹툰 이미지를 담고 있는 태그 선택\n",
    "\n",
    "    if not image_tags:\n",
    "        print(\"오류: 이미지 태그를 찾을 수 없습니다. 페이지 구조가 변경되었을 수 있습니다.\")\n",
    "        return\n",
    "\n",
    "    # 각 이미지 다운로드\n",
    "    print(\"이미지 다운로드를 시작합니다...\")\n",
    "    for i, img_tag in enumerate(image_tags):\n",
    "        img_url = img_tag.get('src')\n",
    "        if not img_url:\n",
    "            continue\n",
    "\n",
    "        try:\n",
    "            # 이미지 데이터 요청\n",
    "            img_response = requests.get(img_url, headers=headers)\n",
    "            img_response.raise_for_status()\n",
    "\n",
    "            # 파일명 설정 (예: 001.jpg, 002.jpg, ...)\n",
    "            file_name = f\"{i+1:03d}.jpg\"\n",
    "            file_path = os.path.join(save_path, file_name)\n",
    "\n",
    "            # 이미지 파일 저장\n",
    "            with open(file_path, 'wb') as f:\n",
    "                f.write(img_response.content)\n",
    "            \n",
    "            print(f\"다운로드 완료: {file_name}\")\n",
    "\n",
    "        except requests.exceptions.RequestException as e:\n",
    "            print(f\"오류: '{img_url}' 이미지 다운로드에 실패했습니다. {e}\")\n",
    "            \n",
    "    print(f\"\\n총 {len(image_tags)}개의 이미지를 '{save_path}'에 성공적으로 다운로드했습니다. 🎉\")\n",
    "\n",
    "\n",
    "# --- 함수 호출 예시 ---\n",
    "if __name__ == \"__main__\":\n",
    "    download_one_episode('광마회귀', 160, 'https://comic.naver.com/webtoon/detail?titleId=776601&no=160&week=fri')"
   ]
  }
 ],
 "metadata": {
  "kernelspec": {
   "display_name": "base",
   "language": "python",
   "name": "python3"
  },
  "language_info": {
   "codemirror_mode": {
    "name": "ipython",
    "version": 3
   },
   "file_extension": ".py",
   "mimetype": "text/x-python",
   "name": "python",
   "nbconvert_exporter": "python",
   "pygments_lexer": "ipython3",
   "version": "3.12.7"
  }
 },
 "nbformat": 4,
 "nbformat_minor": 5
}
