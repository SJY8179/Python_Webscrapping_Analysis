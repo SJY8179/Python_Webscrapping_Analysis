{
 "cells": [
  {
   "cell_type": "markdown",
   "id": "988b89f4",
   "metadata": {},
   "source": [
    "2-1. Nate 뉴스기사 제목 스크래핑하기 (필수)\n",
    "https://news.nate.com/recent?mid=n0100\n",
    "최신뉴스, 정치 , 경제, 사회, 세계, IT/과학 \n",
    "6개의 섹션의 뉴스를 출력하는 함수를 생성하여 스크래핑 하기\n",
    "\n",
    "Image, 기사제목, 기사링크\n",
    "\n",
    "뉴스기사의 Image를 출력 하세요 \n",
    "1) Image의 절대경로와 상대 경로를 합치려면 urljoin 함수를 사용하세요.\n",
    "    from urllib.parse import urljoin\n",
    "\n",
    "2) Image 출력은 Image 클래스와 display 함수를 사용하세요.\n",
    "    from IPython.display import Image, display\n",
    "\n",
    "3) img 엘리먼트의 존재 여부를 체크하신 후에 src 속성의 이미지를 경로를 추출하기\n",
    "  => Image 가 없는 뉴스도 있기 때문에 \n",
    "\n"
   ]
  },
  {
   "cell_type": "code",
   "execution_count": 16,
   "id": "4aa4b0b2",
   "metadata": {},
   "outputs": [
    {
     "name": "stdout",
     "output_type": "stream",
     "text": [
      "https://news.nate.com/recent?mid=n0100\n",
      "<class 'requests.models.Response'>\n",
      "200\n",
      "20\n",
      "============>> 1\n",
      "https://news.nate.com/view/20250725n07585?mid=n0100\n",
      "https://thumbnews.nateimg.co.kr/news90///news.nateimg.co.kr/orgImg/ns/2025/07/25/NISI20250621_0000434230_web.jpg\n"
     ]
    },
    {
     "data": {
      "text/html": [
       "<img src=\"https://thumbnews.nateimg.co.kr/news90///news.nateimg.co.kr/orgImg/ns/2025/07/25/NISI20250621_0000434230_web.jpg\"/>"
      ],
      "text/plain": [
       "<IPython.core.display.Image object>"
      ]
     },
     "metadata": {},
     "output_type": "display_data"
    },
    {
     "name": "stdout",
     "output_type": "stream",
     "text": [
      "김세영, LPGA 스코틀랜드 오픈 첫날 공동 7위…선두와 2타 차\n",
      "============>> 2\n",
      "https://news.nate.com/view/20250725n07584?mid=n0100\n",
      "https://thumbnews.nateimg.co.kr/news90///news.nateimg.co.kr/orgImg/na/2025/07/25/7412721_high.jpg\n"
     ]
    },
    {
     "data": {
      "text/html": [
       "<img src=\"https://thumbnews.nateimg.co.kr/news90///news.nateimg.co.kr/orgImg/na/2025/07/25/7412721_high.jpg\"/>"
      ],
      "text/plain": [
       "<IPython.core.display.Image object>"
      ]
     },
     "metadata": {},
     "output_type": "display_data"
    },
    {
     "name": "stdout",
     "output_type": "stream",
     "text": [
      "인도, 대미 관세협상 타결 자신감…\"걸림돌 없어\"\n",
      "============>> 3\n",
      "https://news.nate.com/view/20250725n07517?mid=n0100\n",
      "https://thumbnews.nateimg.co.kr/news90///news.nateimg.co.kr/orgImg/xs/2025/07/25/1753402747156782.jpg\n"
     ]
    },
    {
     "data": {
      "text/html": [
       "<img src=\"https://thumbnews.nateimg.co.kr/news90///news.nateimg.co.kr/orgImg/xs/2025/07/25/1753402747156782.jpg\"/>"
      ],
      "text/plain": [
       "<IPython.core.display.Image object>"
      ]
     },
     "metadata": {},
     "output_type": "display_data"
    },
    {
     "name": "stdout",
     "output_type": "stream",
     "text": [
      "최수종, '화가 변신' ♥하희라 적극 외조…그림 옆에서 \"눈시울 적시네요\"\n",
      "============>> 4\n",
      "https://news.nate.com/view/20250725n07582?mid=n0100\n",
      "https://thumbnews.nateimg.co.kr/news90///news.nateimg.co.kr/orgImg/ni/2025/07/25/2507250854118190.jpg\n"
     ]
    },
    {
     "data": {
      "text/html": [
       "<img src=\"https://thumbnews.nateimg.co.kr/news90///news.nateimg.co.kr/orgImg/ni/2025/07/25/2507250854118190.jpg\"/>"
      ],
      "text/plain": [
       "<IPython.core.display.Image object>"
      ]
     },
     "metadata": {},
     "output_type": "display_data"
    },
    {
     "name": "stdout",
     "output_type": "stream",
     "text": [
      "씨이랩 \"'XPN'로 산업별 AI 확대 가속화\"\n",
      "============>> 5\n",
      "https://news.nate.com/view/20250725n07581?mid=n0100\n",
      "https://thumbnews.nateimg.co.kr/news90///news.nateimg.co.kr/orgImg/my/2025/07/25/2025072509203237972_l.jpg\n"
     ]
    },
    {
     "data": {
      "text/html": [
       "<img src=\"https://thumbnews.nateimg.co.kr/news90///news.nateimg.co.kr/orgImg/my/2025/07/25/2025072509203237972_l.jpg\"/>"
      ],
      "text/plain": [
       "<IPython.core.display.Image object>"
      ]
     },
     "metadata": {},
     "output_type": "display_data"
    },
    {
     "name": "stdout",
     "output_type": "stream",
     "text": [
      "티웨이항공, 전산 시스템 오류로 탑승 지연…승객 '혼란'\n",
      "============>> 6\n",
      "https://news.nate.com/view/20250725n07580?mid=n0100\n",
      "https://thumbnews.nateimg.co.kr/news90///news.nateimg.co.kr/orgImg/yt/2025/07/25/AKR20250725042100054_02_i.jpg\n"
     ]
    },
    {
     "data": {
      "text/html": [
       "<img src=\"https://thumbnews.nateimg.co.kr/news90///news.nateimg.co.kr/orgImg/yt/2025/07/25/AKR20250725042100054_02_i.jpg\"/>"
      ],
      "text/plain": [
       "<IPython.core.display.Image object>"
      ]
     },
     "metadata": {},
     "output_type": "display_data"
    },
    {
     "name": "stdout",
     "output_type": "stream",
     "text": [
      "전남도 공식 블로그, 소셜아이어워드 2년 연속 대상\n",
      "============>> 7\n",
      "https://news.nate.com/view/20250725n07579?mid=n0100\n",
      "https://thumbnews.nateimg.co.kr/news90///news.nateimg.co.kr/orgImg/ns/2025/07/25/NISI20250725_0001902548_web.jpg\n"
     ]
    },
    {
     "data": {
      "text/html": [
       "<img src=\"https://thumbnews.nateimg.co.kr/news90///news.nateimg.co.kr/orgImg/ns/2025/07/25/NISI20250725_0001902548_web.jpg\"/>"
      ],
      "text/plain": [
       "<IPython.core.display.Image object>"
      ]
     },
     "metadata": {},
     "output_type": "display_data"
    },
    {
     "name": "stdout",
     "output_type": "stream",
     "text": [
      "KT, 국가망보안체계 기반 공공 보안 생태계 강화 나선다\n",
      "============>> 8\n",
      "https://news.nate.com/view/20250725n07578?mid=n0100\n",
      "https://thumbnews.nateimg.co.kr/news90///news.nateimg.co.kr/orgImg/hk/2025/07/25/mod_stk_20250725_4126.jpg\n"
     ]
    },
    {
     "data": {
      "text/html": [
       "<img src=\"https://thumbnews.nateimg.co.kr/news90///news.nateimg.co.kr/orgImg/hk/2025/07/25/mod_stk_20250725_4126.jpg\"/>"
      ],
      "text/plain": [
       "<IPython.core.display.Image object>"
      ]
     },
     "metadata": {},
     "output_type": "display_data"
    },
    {
     "name": "stdout",
     "output_type": "stream",
     "text": [
      "'산돌' 52주 신고가 경신, 전일 외국인 대량 순매수\n",
      "============>> 9\n",
      "https://news.nate.com/view/20250725n07577?mid=n0100\n",
      "https://thumbnews.nateimg.co.kr/news90///news.nateimg.co.kr/orgImg/in/2025/07/25/371e3799902e73.jpg\n"
     ]
    },
    {
     "data": {
      "text/html": [
       "<img src=\"https://thumbnews.nateimg.co.kr/news90///news.nateimg.co.kr/orgImg/in/2025/07/25/371e3799902e73.jpg\"/>"
      ],
      "text/plain": [
       "<IPython.core.display.Image object>"
      ]
     },
     "metadata": {},
     "output_type": "display_data"
    },
    {
     "name": "stdout",
     "output_type": "stream",
     "text": [
      "BBQ, FC바르셀로나 서울경기서 '치킨연금' 쏜다\n",
      "============>> 10\n",
      "https://news.nate.com/view/20250725n07576?mid=n0100\n",
      "https://thumbnews.nateimg.co.kr/news90///news.nateimg.co.kr/orgImg/sp/2025/07/25/news-p.v1.20250725.0c1912fccdd942549af6776e2525126d_P1.jpg\n"
     ]
    },
    {
     "data": {
      "text/html": [
       "<img src=\"https://thumbnews.nateimg.co.kr/news90///news.nateimg.co.kr/orgImg/sp/2025/07/25/news-p.v1.20250725.0c1912fccdd942549af6776e2525126d_P1.jpg\"/>"
      ],
      "text/plain": [
       "<IPython.core.display.Image object>"
      ]
     },
     "metadata": {},
     "output_type": "display_data"
    },
    {
     "name": "stdout",
     "output_type": "stream",
     "text": [
      "남원시,  '백두대간 자생곤충전' 특별기획전 개최\n",
      "============>> 11\n",
      "https://news.nate.com/view/20250725n07575?mid=n0100\n",
      "https://thumbnews.nateimg.co.kr/news90///news.nateimg.co.kr/orgImg/wh/2025/07/25/1248444_1447401_3212.jpg\n"
     ]
    },
    {
     "data": {
      "text/html": [
       "<img src=\"https://thumbnews.nateimg.co.kr/news90///news.nateimg.co.kr/orgImg/wh/2025/07/25/1248444_1447401_3212.jpg\"/>"
      ],
      "text/plain": [
       "<IPython.core.display.Image object>"
      ]
     },
     "metadata": {},
     "output_type": "display_data"
    },
    {
     "name": "stdout",
     "output_type": "stream",
     "text": [
      "정동원 \"너무 일만 했다\" 안타까운 전생\n",
      "============>> 12\n",
      "https://news.nate.com/view/20250725n07574?mid=n0100\n",
      "https://thumbnews.nateimg.co.kr/news90///news.nateimg.co.kr/orgImg/ni/2025/07/25/2507250916161540.jpg\n"
     ]
    },
    {
     "data": {
      "text/html": [
       "<img src=\"https://thumbnews.nateimg.co.kr/news90///news.nateimg.co.kr/orgImg/ni/2025/07/25/2507250916161540.jpg\"/>"
      ],
      "text/plain": [
       "<IPython.core.display.Image object>"
      ]
     },
     "metadata": {},
     "output_type": "display_data"
    },
    {
     "name": "stdout",
     "output_type": "stream",
     "text": [
      "DB손해보험, 설채현·이기우와 기부하는 펫보험 론칭\n",
      "============>> 13\n",
      "https://news.nate.com/view/20250725n07573?mid=n0100\n",
      "https://thumbnews.nateimg.co.kr/news90///news.nateimg.co.kr/orgImg/yt/2025/07/25/PYH2025072502060001301_P2.jpg\n"
     ]
    },
    {
     "data": {
      "text/html": [
       "<img src=\"https://thumbnews.nateimg.co.kr/news90///news.nateimg.co.kr/orgImg/yt/2025/07/25/PYH2025072502060001301_P2.jpg\"/>"
      ],
      "text/plain": [
       "<IPython.core.display.Image object>"
      ]
     },
     "metadata": {},
     "output_type": "display_data"
    },
    {
     "name": "stdout",
     "output_type": "stream",
     "text": [
      "김건희 특검, 서초구 아크로비스타 압수수색 시도\n",
      "============>> 14\n",
      "https://news.nate.com/view/20250725n07572?mid=n0100\n",
      "https://thumbnews.nateimg.co.kr/news90///news.nateimg.co.kr/orgImg/my/2025/07/25/2025072509322441474_l.jpg\n"
     ]
    },
    {
     "data": {
      "text/html": [
       "<img src=\"https://thumbnews.nateimg.co.kr/news90///news.nateimg.co.kr/orgImg/my/2025/07/25/2025072509322441474_l.jpg\"/>"
      ],
      "text/plain": [
       "<IPython.core.display.Image object>"
      ]
     },
     "metadata": {},
     "output_type": "display_data"
    },
    {
     "name": "stdout",
     "output_type": "stream",
     "text": [
      "[MD포토] 휴닝카이 '빠져드는 눈빛'\n",
      "============>> 15\n",
      "https://news.nate.com/view/20250725n07366?mid=n0100\n",
      "https://thumbnews.nateimg.co.kr/news90///news.nateimg.co.kr/orgImg/sg/2025/07/25/20250725504588.jpg\n"
     ]
    },
    {
     "data": {
      "text/html": [
       "<img src=\"https://thumbnews.nateimg.co.kr/news90///news.nateimg.co.kr/orgImg/sg/2025/07/25/20250725504588.jpg\"/>"
      ],
      "text/plain": [
       "<IPython.core.display.Image object>"
      ]
     },
     "metadata": {},
     "output_type": "display_data"
    },
    {
     "name": "stdout",
     "output_type": "stream",
     "text": [
      "'배용준♥' 박수진, 9년만에 근황 공개…결혼 후에도 여전한 청순美\n",
      "============>> 16\n",
      "https://news.nate.com/view/20250725n07570?mid=n0100\n",
      "https://thumbnews.nateimg.co.kr/news90///news.nateimg.co.kr/orgImg/ns/2025/07/25/NISI20250725_0020903215_web.jpg\n"
     ]
    },
    {
     "data": {
      "text/html": [
       "<img src=\"https://thumbnews.nateimg.co.kr/news90///news.nateimg.co.kr/orgImg/ns/2025/07/25/NISI20250725_0020903215_web.jpg\"/>"
      ],
      "text/plain": [
       "<IPython.core.display.Image object>"
      ]
     },
     "metadata": {},
     "output_type": "display_data"
    },
    {
     "name": "stdout",
     "output_type": "stream",
     "text": [
      "코스피 하락, 원달러 환율 상승  출발\n",
      "============>> 17\n",
      "https://news.nate.com/view/20250725n07569?mid=n0100\n",
      "https://thumbnews.nateimg.co.kr/news90///news.nateimg.co.kr/orgImg/fn/2025/07/25/202507250931340013_l.jpg\n"
     ]
    },
    {
     "data": {
      "text/html": [
       "<img src=\"https://thumbnews.nateimg.co.kr/news90///news.nateimg.co.kr/orgImg/fn/2025/07/25/202507250931340013_l.jpg\"/>"
      ],
      "text/plain": [
       "<IPython.core.display.Image object>"
      ]
     },
     "metadata": {},
     "output_type": "display_data"
    },
    {
     "name": "stdout",
     "output_type": "stream",
     "text": [
      "KAI \"미래 항공우주 산업 견인\"…'K-AI FAMILY' 기술교류회\n",
      "============>> 18\n",
      "https://news.nate.com/view/20250725n07568?mid=n0100\n",
      "https://thumbnews.nateimg.co.kr/news90///news.nateimg.co.kr/orgImg/aj/2025/07/25/20250725093148577615.jpg\n"
     ]
    },
    {
     "data": {
      "text/html": [
       "<img src=\"https://thumbnews.nateimg.co.kr/news90///news.nateimg.co.kr/orgImg/aj/2025/07/25/20250725093148577615.jpg\"/>"
      ],
      "text/plain": [
       "<IPython.core.display.Image object>"
      ]
     },
     "metadata": {},
     "output_type": "display_data"
    },
    {
     "name": "stdout",
     "output_type": "stream",
     "text": [
      "[특징주] KB금융, 52주 신고가 경신…호실적·주주환원에 증권가 목표가 줄상향\n",
      "============>> 19\n",
      "https://news.nate.com/view/20250725n07567?mid=n0100\n",
      "https://thumbnews.nateimg.co.kr/news90///news.nateimg.co.kr/orgImg/yt/2025/07/25/AKR20250725039500009_01_i.jpg\n"
     ]
    },
    {
     "data": {
      "text/html": [
       "<img src=\"https://thumbnews.nateimg.co.kr/news90///news.nateimg.co.kr/orgImg/yt/2025/07/25/AKR20250725039500009_01_i.jpg\"/>"
      ],
      "text/plain": [
       "<IPython.core.display.Image object>"
      ]
     },
     "metadata": {},
     "output_type": "display_data"
    },
    {
     "name": "stdout",
     "output_type": "stream",
     "text": [
      "\"中-EU, 희토류 수출제한 완화 합의…공급 메커니즘 업그레이드\"\n",
      "============>> 20\n",
      "https://news.nate.com/view/20250725n07566?mid=n0100\n",
      "https://thumbnews.nateimg.co.kr/news90///news.nateimg.co.kr/orgImg/dn/2025/07/25/news_1753400526_1527581_m_1.jpg\n"
     ]
    },
    {
     "data": {
      "text/html": [
       "<img src=\"https://thumbnews.nateimg.co.kr/news90///news.nateimg.co.kr/orgImg/dn/2025/07/25/news_1753400526_1527581_m_1.jpg\"/>"
      ],
      "text/plain": [
       "<IPython.core.display.Image object>"
      ]
     },
     "metadata": {},
     "output_type": "display_data"
    },
    {
     "name": "stdout",
     "output_type": "stream",
     "text": [
      "CJ대한통운, 택배기사에 '여름나기 용품' 전달\n"
     ]
    }
   ],
   "source": [
    "import requests\n",
    "from bs4 import BeautifulSoup\n",
    "from urllib.parse import urljoin\n",
    "from IPython.display import Image, display\n",
    "\n",
    "url = 'https://news.nate.com/recent?mid=n0100'\n",
    "print(url)\n",
    "\n",
    "req_header = {\n",
    "    'user-agent': 'Mozilla/5.0 (Windows NT 10.0; Win64; x64) AppleWebKit/537.36 (KHTML, like Gecko) Chrome/104.0.0.0 Safari/537.36'\n",
    "}\n",
    "\n",
    "res = requests.get(url, headers=req_header)\n",
    "print(type(res))\n",
    "print(res.status_code)\n",
    "\n",
    "if res.ok:\n",
    "    res.encoding = 'euc-kr'\n",
    "    html = res.text\n",
    "    soup = BeautifulSoup(html, 'html.parser')\n",
    "    \n",
    "    tags = soup.select(\"div.postListType.noListTitle div.mlt01\")\n",
    "    print(len(tags))\n",
    "\n",
    "    for idx,div_tag in enumerate(tags,1): \n",
    "        print(f'============>> {idx}')       \n",
    "        a_tag = div_tag.find('a')\n",
    "        a_join_url = urljoin(url,a_tag['href'])\n",
    "        print(a_join_url)\n",
    "\n",
    "        img_tag = div_tag.select_one('span.ib img')\n",
    "        if img_tag:\n",
    "            photo_url = urljoin(url,img_tag['src'])\n",
    "            print(photo_url)\n",
    "            display(Image(url=photo_url))\n",
    "\n",
    "        h2_tag = div_tag.select_one('span.tb h2.tit')\n",
    "        title = h2_tag.text\n",
    "        print(title)\n",
    "\n",
    "else:\n",
    "    print(f'에러코드 = {res.status_code}')"
   ]
  },
  {
   "cell_type": "markdown",
   "id": "1fc533c6",
   "metadata": {},
   "source": [
    "2-2. 하나의 네이버 웹툰과 1개의 회차에 대한 Image 다운로드 하기 (필수)\n",
    ":  하나의 웹툰의 제목(title)과 회차번호(no),회차의URL(url) 을 입력으로 받는 함수를 선언합니다. \n",
    "   def download_one_episode(title,no,url):\n",
    "\n",
    "아래와 같이 호출합니다.\n",
    "download_one_episode('일렉시드',341,'https://comic.naver.com/webtoon/detail?titleId=717481&no=341&week=wed')\n",
    "\n",
    "img\\일렉시드\\341 디렉토리가 생성되며 , \n",
    "그 디렉토리 아래에 웹툰 image들이 다운로드 되도록 해주세요.\n"
   ]
  },
  {
   "cell_type": "code",
   "execution_count": null,
   "id": "8540af63",
   "metadata": {},
   "outputs": [
    {
     "name": "stdout",
     "output_type": "stream",
     "text": [
      "'img\\광마회귀\\160' 디렉토리를 생성했습니다.\n",
      "이미지 다운로드를 시작합니다...\n",
      "다운로드 완료: 001.jpg\n",
      "다운로드 완료: 002.jpg\n",
      "다운로드 완료: 003.jpg\n",
      "다운로드 완료: 004.jpg\n",
      "다운로드 완료: 005.jpg\n",
      "다운로드 완료: 006.jpg\n",
      "다운로드 완료: 007.jpg\n",
      "다운로드 완료: 008.jpg\n",
      "다운로드 완료: 009.jpg\n",
      "다운로드 완료: 010.jpg\n",
      "다운로드 완료: 011.jpg\n",
      "다운로드 완료: 012.jpg\n",
      "다운로드 완료: 013.jpg\n",
      "다운로드 완료: 014.jpg\n",
      "다운로드 완료: 015.jpg\n",
      "다운로드 완료: 016.jpg\n",
      "다운로드 완료: 017.jpg\n",
      "다운로드 완료: 018.jpg\n",
      "다운로드 완료: 019.jpg\n",
      "다운로드 완료: 020.jpg\n",
      "다운로드 완료: 021.jpg\n",
      "다운로드 완료: 022.jpg\n",
      "다운로드 완료: 023.jpg\n",
      "다운로드 완료: 024.jpg\n",
      "다운로드 완료: 025.jpg\n",
      "다운로드 완료: 026.jpg\n",
      "다운로드 완료: 027.jpg\n",
      "다운로드 완료: 028.jpg\n",
      "다운로드 완료: 029.jpg\n",
      "다운로드 완료: 030.jpg\n",
      "다운로드 완료: 031.jpg\n",
      "다운로드 완료: 032.jpg\n",
      "다운로드 완료: 033.jpg\n",
      "다운로드 완료: 034.jpg\n",
      "다운로드 완료: 035.jpg\n",
      "다운로드 완료: 036.jpg\n",
      "다운로드 완료: 037.jpg\n",
      "다운로드 완료: 038.jpg\n",
      "다운로드 완료: 039.jpg\n",
      "다운로드 완료: 040.jpg\n",
      "다운로드 완료: 041.jpg\n",
      "다운로드 완료: 042.jpg\n",
      "다운로드 완료: 043.jpg\n",
      "다운로드 완료: 044.jpg\n",
      "다운로드 완료: 045.jpg\n",
      "다운로드 완료: 046.jpg\n",
      "다운로드 완료: 047.jpg\n",
      "다운로드 완료: 048.jpg\n",
      "다운로드 완료: 049.jpg\n",
      "다운로드 완료: 050.jpg\n",
      "다운로드 완료: 051.jpg\n",
      "다운로드 완료: 052.jpg\n",
      "다운로드 완료: 053.jpg\n",
      "다운로드 완료: 054.jpg\n",
      "다운로드 완료: 055.jpg\n",
      "다운로드 완료: 056.jpg\n",
      "다운로드 완료: 057.jpg\n",
      "다운로드 완료: 058.jpg\n",
      "다운로드 완료: 059.jpg\n",
      "다운로드 완료: 060.jpg\n",
      "다운로드 완료: 061.jpg\n",
      "다운로드 완료: 062.jpg\n",
      "\n",
      "총 62개의 이미지를 'img\\광마회귀\\160'에 성공적으로 다운로드했습니다. 🎉\n"
     ]
    }
   ],
   "source": [
    "import os\n",
    "import requests\n",
    "from bs4 import BeautifulSoup\n",
    "\n",
    "def download_one_episode(title, no, url):\n",
    "    \"\"\"\n",
    "    네이버 웹툰의 한 회차 이미지를 모두 다운로드합니다.\n",
    "\n",
    "    :param title: 웹툰 제목 (폴더명으로 사용)\n",
    "    :param no: 회차 번호 (폴더명으로 사용)\n",
    "    :param url: 다운로드할 회차의 URL\n",
    "    \"\"\"\n",
    "    # 저장할 디렉토리 경로 설정 및 생성\n",
    "    # 예: img/광마회귀/160\n",
    "    save_path = os.path.join('img', title, str(no))\n",
    "    os.makedirs(save_path, exist_ok=True)\n",
    "    print(f\"'{save_path}' 디렉토리를 생성했습니다.\")\n",
    "\n",
    "    # 웹툰 페이지에 접속하기 위한 헤더 설정 (차단 방지)\n",
    "    headers = {\n",
    "        'User-Agent': 'Mozilla/5.0 (Windows NT 10.0; Win64; x64) AppleWebKit/537.36 (KHTML, like Gecko) Chrome/91.0.4472.124 Safari/537.36',\n",
    "        'Referer': url\n",
    "    }\n",
    "\n",
    "    # 웹툰 페이지의 HTML 가져오기\n",
    "    try:\n",
    "        response = requests.get(url, headers=headers)\n",
    "        response.raise_for_status()  # HTTP 오류가 발생하면 예외 발생\n",
    "    except requests.exceptions.RequestException as e:\n",
    "        print(f\"오류: 웹 페이지를 가져올 수 없습니다. {e}\")\n",
    "        return\n",
    "\n",
    "    # HTML 파싱하여 이미지 URL 추출\n",
    "    soup = BeautifulSoup(response.text, 'html.parser')\n",
    "    image_tags = soup.select('.wt_viewer img') # 웹툰 이미지를 담고 있는 태그 선택\n",
    "\n",
    "    if not image_tags:\n",
    "        print(\"오류: 이미지 태그를 찾을 수 없습니다. 페이지 구조가 변경되었을 수 있습니다.\")\n",
    "        return\n",
    "\n",
    "    # 각 이미지 다운로드\n",
    "    print(\"이미지 다운로드를 시작합니다...\")\n",
    "    for i, img_tag in enumerate(image_tags):\n",
    "        img_url = img_tag.get('src')\n",
    "        if not img_url:\n",
    "            continue\n",
    "\n",
    "        try:\n",
    "            # 이미지 데이터 요청\n",
    "            img_response = requests.get(img_url, headers=headers)\n",
    "            img_response.raise_for_status()\n",
    "\n",
    "            # 파일명 설정 (예: 001.jpg, 002.jpg, ...)\n",
    "            file_name = f\"{i+1:03d}.jpg\"\n",
    "            file_path = os.path.join(save_path, file_name)\n",
    "\n",
    "            # 이미지 파일 저장\n",
    "            with open(file_path, 'wb') as f:\n",
    "                f.write(img_response.content)\n",
    "            \n",
    "            print(f\"다운로드 완료: {file_name}\")\n",
    "\n",
    "        except requests.exceptions.RequestException as e:\n",
    "            print(f\"오류: '{img_url}' 이미지 다운로드에 실패했습니다. {e}\")\n",
    "            \n",
    "    print(f\"\\n총 {len(image_tags)}개의 이미지를 '{save_path}'에 성공적으로 다운로드했습니다. 🎉\")\n",
    "\n",
    "\n",
    "# --- 함수 호출 예시 ---\n",
    "if __name__ == \"__main__\":\n",
    "    download_one_episode('광마회귀', 160, 'https://comic.naver.com/webtoon/detail?titleId=776601&no=160&week=fri')"
   ]
  }
 ],
 "metadata": {
  "kernelspec": {
   "display_name": "base",
   "language": "python",
   "name": "python3"
  },
  "language_info": {
   "codemirror_mode": {
    "name": "ipython",
    "version": 3
   },
   "file_extension": ".py",
   "mimetype": "text/x-python",
   "name": "python",
   "nbconvert_exporter": "python",
   "pygments_lexer": "ipython3",
   "version": "3.12.7"
  }
 },
 "nbformat": 4,
 "nbformat_minor": 5
}
