{
 "cells": [
  {
   "cell_type": "code",
   "execution_count": 64,
   "id": "f82bd68d-3c55-446c-8b20-3fe23b37d417",
   "metadata": {},
   "outputs": [
    {
     "name": "stdout",
     "output_type": "stream",
     "text": [
      "https://www.assembly.go.kr/portal/cnts/cntsNaas/findNaasThx01.json?pageIndex=1\n",
      "https://www.assembly.go.kr/portal/cnts/cntsNaas/findNaasThx01.json?pageIndex=2\n",
      "https://www.assembly.go.kr/portal/cnts/cntsNaas/findNaasThx01.json?pageIndex=3\n",
      "https://www.assembly.go.kr/portal/cnts/cntsNaas/findNaasThx01.json?pageIndex=4\n",
      "https://www.assembly.go.kr/portal/cnts/cntsNaas/findNaasThx01.json?pageIndex=5\n",
      "https://www.assembly.go.kr/portal/cnts/cntsNaas/findNaasThx01.json?pageIndex=6\n",
      "https://www.assembly.go.kr/portal/cnts/cntsNaas/findNaasThx01.json?pageIndex=7\n",
      "https://www.assembly.go.kr/portal/cnts/cntsNaas/findNaasThx01.json?pageIndex=8\n",
      "https://www.assembly.go.kr/portal/cnts/cntsNaas/findNaasThx01.json?pageIndex=9\n",
      "https://www.assembly.go.kr/portal/cnts/cntsNaas/findNaasThx01.json?pageIndex=10\n",
      "https://www.assembly.go.kr/portal/cnts/cntsNaas/findNaasThx01.json?pageIndex=11\n",
      "https://www.assembly.go.kr/portal/cnts/cntsNaas/findNaasThx01.json?pageIndex=12\n",
      "https://www.assembly.go.kr/portal/cnts/cntsNaas/findNaasThx01.json?pageIndex=13\n",
      "https://www.assembly.go.kr/portal/cnts/cntsNaas/findNaasThx01.json?pageIndex=14\n",
      "https://www.assembly.go.kr/portal/cnts/cntsNaas/findNaasThx01.json?pageIndex=15\n",
      "https://www.assembly.go.kr/portal/cnts/cntsNaas/findNaasThx01.json?pageIndex=16\n",
      "https://www.assembly.go.kr/portal/cnts/cntsNaas/findNaasThx01.json?pageIndex=17\n",
      "https://www.assembly.go.kr/portal/cnts/cntsNaas/findNaasThx01.json?pageIndex=18\n",
      "https://www.assembly.go.kr/portal/cnts/cntsNaas/findNaasThx01.json?pageIndex=19\n",
      "https://www.assembly.go.kr/portal/cnts/cntsNaas/findNaasThx01.json?pageIndex=20\n",
      "https://www.assembly.go.kr/portal/cnts/cntsNaas/findNaasThx01.json?pageIndex=21\n",
      "https://www.assembly.go.kr/portal/cnts/cntsNaas/findNaasThx01.json?pageIndex=22\n",
      "https://www.assembly.go.kr/portal/cnts/cntsNaas/findNaasThx01.json?pageIndex=23\n",
      "https://www.assembly.go.kr/portal/cnts/cntsNaas/findNaasThx01.json?pageIndex=24\n",
      "https://www.assembly.go.kr/portal/cnts/cntsNaas/findNaasThx01.json?pageIndex=25\n",
      "https://www.assembly.go.kr/portal/cnts/cntsNaas/findNaasThx01.json?pageIndex=26\n",
      "https://www.assembly.go.kr/portal/cnts/cntsNaas/findNaasThx01.json?pageIndex=27\n",
      "https://www.assembly.go.kr/portal/cnts/cntsNaas/findNaasThx01.json?pageIndex=28\n",
      "https://www.assembly.go.kr/portal/cnts/cntsNaas/findNaasThx01.json?pageIndex=29\n",
      "https://www.assembly.go.kr/portal/cnts/cntsNaas/findNaasThx01.json?pageIndex=30\n",
      "298\n",
      "[{'rnum': 1, 'monaCd': 'T2T8225E', 'hgNm': '강경숙', 'openNaId': 'KANGKYUNGSOOK', 'st': '22', 'unitNm': '제22대', 'polyNm': '조국혁신당', 'origNm': '비례대표', 'electGbnNm': '비례대표', 'cmitNm': '교육위원회', 'reeleGbnNm': '초선', 'sexGbnNm': '여', 'mImgUrl': '/static/portal/img/openassm/new/68f83caf0c9e4546b1694ead863f45ce.jpg', 'mThumbImgUrl': '/static/portal/img/openassm/new/thumb/68f83caf0c9e4546b1694ead863f45ce.jpg', 'mLinkUrl': '/members/22nd/KANGKYUNGSOOK'}, {'rnum': 2, 'monaCd': 'L2I9861C', 'hgNm': '강대식', 'openNaId': 'KANGDAESIK', 'st': '22', 'unitNm': '제22대', 'polyNm': '국민의힘', 'origNm': '대구 동구군위군을', 'electGbnNm': '지역구', 'cmitNm': '국방위원회', 'reeleGbnNm': '재선', 'sexGbnNm': '남', 'mImgUrl': '/static/portal/img/openassm/new/d1fe9f0902d84f0ba74f721d3298be7f.png', 'mThumbImgUrl': '/static/portal/img/openassm/new/thumb/d1fe9f0902d84f0ba74f721d3298be7f.png', 'mLinkUrl': '/members/22nd/KANGDAESIK'}, {'rnum': 3, 'monaCd': '8P37634C', 'hgNm': '강득구', 'openNaId': 'KANGDEUKGU', 'st': '22', 'unitNm': '제22대', 'polyNm': '더불어민주당', 'origNm': '경기 안양시만안구', 'electGbnNm': '지역구', 'cmitNm': '환경노동위원회, 기후위기 특별위원회', 'reeleGbnNm': '재선', 'sexGbnNm': '남', 'mImgUrl': '/static/portal/img/openassm/new/0410a0c8e24b474cac2fd79c7700ca2f.jpg', 'mThumbImgUrl': '/static/portal/img/openassm/new/thumb/0410a0c8e24b474cac2fd79c7700ca2f.jpg', 'mLinkUrl': '/members/22nd/KANGDEUKGU'}]\n"
     ]
    }
   ],
   "source": [
    "import requests\n",
    "from bs4 import BeautifulSoup\n",
    "import re\n",
    "\n",
    "headers = {\n",
    "    'user-agent':'Mozilla/5.0 (Windows NT 10.0; Win64; x64) AppleWebKit/537.36 (KHTML, like Gecko) Chrome/74.0.3729.169 Safari/537.36'\n",
    "}\n",
    "\n",
    "member_list_300 = []\n",
    "for index in range(1,31):\n",
    "    url = f'https://www.assembly.go.kr/portal/cnts/cntsNaas/findNaasThx01.json?pageIndex={index}'\n",
    "    print(url)\n",
    "    res = requests.get(url, headers=headers)\n",
    "    #print(res.status_code)\n",
    "    if res.ok:\n",
    "        #print(res.json()['resultList'])\n",
    "        member_list_10 = []\n",
    "        for member in res.json()['resultList']:\n",
    "            member_list_10.append(member) \n",
    "        \n",
    "        #print(member_list_10)\n",
    "        member_list_300.extend(member_list_10)\n",
    "    else:\n",
    "        print(res.status_code)\n",
    "print(len(member_list_300))\n",
    "print(member_list_300[:3])"
   ]
  },
  {
   "cell_type": "code",
   "execution_count": 65,
   "id": "4f691a08",
   "metadata": {},
   "outputs": [
    {
     "name": "stdout",
     "output_type": "stream",
     "text": [
      "[{'cmitNm': '교육위원회',\n",
      "  'electGbnNm': '비례대표',\n",
      "  'hgNm': '강경숙',\n",
      "  'mImgUrl': '/static/portal/img/openassm/new/68f83caf0c9e4546b1694ead863f45ce.jpg',\n",
      "  'mLinkUrl': '/members/22nd/KANGKYUNGSOOK',\n",
      "  'mThumbImgUrl': '/static/portal/img/openassm/new/thumb/68f83caf0c9e4546b1694ead863f45ce.jpg',\n",
      "  'monaCd': 'T2T8225E',\n",
      "  'openNaId': 'KANGKYUNGSOOK',\n",
      "  'origNm': '비례대표',\n",
      "  'polyNm': '조국혁신당',\n",
      "  'reeleGbnNm': '초선',\n",
      "  'rnum': 1,\n",
      "  'sexGbnNm': '여',\n",
      "  'st': '22',\n",
      "  'unitNm': '제22대'},\n",
      " {'cmitNm': '국방위원회',\n",
      "  'electGbnNm': '지역구',\n",
      "  'hgNm': '강대식',\n",
      "  'mImgUrl': '/static/portal/img/openassm/new/d1fe9f0902d84f0ba74f721d3298be7f.png',\n",
      "  'mLinkUrl': '/members/22nd/KANGDAESIK',\n",
      "  'mThumbImgUrl': '/static/portal/img/openassm/new/thumb/d1fe9f0902d84f0ba74f721d3298be7f.png',\n",
      "  'monaCd': 'L2I9861C',\n",
      "  'openNaId': 'KANGDAESIK',\n",
      "  'origNm': '대구 동구군위군을',\n",
      "  'polyNm': '국민의힘',\n",
      "  'reeleGbnNm': '재선',\n",
      "  'rnum': 2,\n",
      "  'sexGbnNm': '남',\n",
      "  'st': '22',\n",
      "  'unitNm': '제22대'},\n",
      " {'cmitNm': '환경노동위원회, 기후위기 특별위원회',\n",
      "  'electGbnNm': '지역구',\n",
      "  'hgNm': '강득구',\n",
      "  'mImgUrl': '/static/portal/img/openassm/new/0410a0c8e24b474cac2fd79c7700ca2f.jpg',\n",
      "  'mLinkUrl': '/members/22nd/KANGDEUKGU',\n",
      "  'mThumbImgUrl': '/static/portal/img/openassm/new/thumb/0410a0c8e24b474cac2fd79c7700ca2f.jpg',\n",
      "  'monaCd': '8P37634C',\n",
      "  'openNaId': 'KANGDEUKGU',\n",
      "  'origNm': '경기 안양시만안구',\n",
      "  'polyNm': '더불어민주당',\n",
      "  'reeleGbnNm': '재선',\n",
      "  'rnum': 3,\n",
      "  'sexGbnNm': '남',\n",
      "  'st': '22',\n",
      "  'unitNm': '제22대'}]\n"
     ]
    }
   ],
   "source": [
    "from pprint import pprint\n",
    "\n",
    "pprint(member_list_300[:3])"
   ]
  },
  {
   "cell_type": "markdown",
   "id": "74cdd230-ea03-4e60-91a1-79e2aa699ebb",
   "metadata": {},
   "source": [
    "#### Json 데이터와 상세페이지 스크래핑 데이터 를 혼합해서 상세정보 저장하기"
   ]
  },
  {
   "cell_type": "code",
   "execution_count": 66,
   "id": "71ba0357-c7fb-4ffe-ad53-0396650331e0",
   "metadata": {},
   "outputs": [
    {
     "name": "stdout",
     "output_type": "stream",
     "text": [
      "===> 스크래핑 시작\n"
     ]
    },
    {
     "name": "stdout",
     "output_type": "stream",
     "text": [
      "True 1 https://www.assembly.go.kr/members/22nd/KANGKYUNGSOOK\n",
      "True 2 https://www.assembly.go.kr/members/22nd/KANGDAESIK\n",
      "True 3 https://www.assembly.go.kr/members/22nd/KANGDEUKGU\n",
      "True 4 https://www.assembly.go.kr/members/22nd/KANGMYOUNGGU\n",
      "True 5 https://www.assembly.go.kr/members/22nd/KANGMINKUK\n",
      "True 6 https://www.assembly.go.kr/members/22nd/KANGSUNYOUNG\n",
      "True 7 https://www.assembly.go.kr/members/22nd/KANGSUNWOO\n",
      "True 8 https://www.assembly.go.kr/members/22nd/KangSeungKyoo\n",
      "True 9 https://www.assembly.go.kr/members/22nd/KANGJUNHYEON\n",
      "True 10 https://www.assembly.go.kr/members/22nd/KOHDONGJIN\n",
      "True 11 https://www.assembly.go.kr/members/22nd/KOMINJUNG\n",
      "True 12 https://www.assembly.go.kr/members/22nd/KWAKKYUTAEK\n",
      "True 13 https://www.assembly.go.kr/members/22nd/KWAKSANGEON\n",
      "True 14 https://www.assembly.go.kr/members/22nd/KUJAKEUN\n",
      "True 15 https://www.assembly.go.kr/members/22nd/KWEONSEONGDONG\n",
      "True 16 https://www.assembly.go.kr/members/22nd/KWONYOUNGSE\n",
      "True 17 https://www.assembly.go.kr/members/22nd/KwonYoungJin\n",
      "True 18 https://www.assembly.go.kr/members/22nd/KWONCHILSEUNG\n",
      "True 19 https://www.assembly.go.kr/members/22nd/KWONHYANGYUP\n",
      "True 20 https://www.assembly.go.kr/members/22nd/KIMGUNN\n",
      "True 21 https://www.assembly.go.kr/members/22nd/KIMKYOHEUNG\n",
      "True 22 https://www.assembly.go.kr/members/22nd/KIMKIWOONG\n",
      "True 23 https://www.assembly.go.kr/members/22nd/KIMGIPYO\n",
      "True 24 https://www.assembly.go.kr/members/22nd/KIMGIHYEON\n",
      "True 25 https://www.assembly.go.kr/members/22nd/KIMNAMGEUN\n",
      "True 26 https://www.assembly.go.kr/members/22nd/KIMNAMHEE\n",
      "True 27 https://www.assembly.go.kr/members/22nd/KIMDAISIK\n",
      "True 28 https://www.assembly.go.kr/members/22nd/KIMDOEUP\n",
      "True 29 https://www.assembly.go.kr/members/22nd/KIMDONGAH\n",
      "True 30 https://www.assembly.go.kr/members/22nd/KIMMOONSOO\n",
      "True 31 https://www.assembly.go.kr/members/22nd/KIMMIAE\n",
      "True 32 https://www.assembly.go.kr/members/22nd/KIMMINSEOK\n",
      "True 33 https://www.assembly.go.kr/members/22nd/KIMMEENGEON\n",
      "True 34 https://www.assembly.go.kr/members/22nd/KIMBYUNGKEE\n",
      "True 35 https://www.assembly.go.kr/members/22nd/KIMBYUNGJOO\n",
      "True 36 https://www.assembly.go.kr/members/22nd/KIMSANGWOOK\n",
      "True 37 https://www.assembly.go.kr/members/22nd/KIMSANGHOON\n",
      "True 38 https://www.assembly.go.kr/members/22nd/KIMSEOKKI\n",
      "True 39 https://www.assembly.go.kr/members/22nd/KIMSUNGYO\n",
      "True 40 https://www.assembly.go.kr/members/22nd/KIMSUNMIN\n",
      "True 41 https://www.assembly.go.kr/members/22nd/KIMSUNGWON\n",
      "True 42 https://www.assembly.go.kr/members/22nd/KIMSUNGWHAN\n",
      "True 43 https://www.assembly.go.kr/members/22nd/KIMSUNGHOI\n",
      "True 44 https://www.assembly.go.kr/members/22nd/KIMSOHEE\n",
      "True 45 https://www.assembly.go.kr/members/22nd/KIMSEUNGSU\n",
      "True 46 https://www.assembly.go.kr/members/22nd/KIMSEUNGWON\n",
      "True 47 https://www.assembly.go.kr/members/22nd/KIMYOUNGBAE\n",
      "True 48 https://www.assembly.go.kr/members/22nd/KIMYOUNGJIN\n",
      "True 49 https://www.assembly.go.kr/members/22nd/KIMYOUNGHO\n",
      "True 50 https://www.assembly.go.kr/members/22nd/KIMYOUNGWHAN\n",
      "True 51 https://www.assembly.go.kr/members/22nd/KIMYEAJI\n",
      "True 52 https://www.assembly.go.kr/members/22nd/KIMYONGMAN\n",
      "True 53 https://www.assembly.go.kr/members/22nd/KIMYONGMIN\n",
      "True 54 https://www.assembly.go.kr/members/22nd/YONGTAEKIM\n",
      "True 55 https://www.assembly.go.kr/members/22nd/KIMWOOYOUNG\n",
      "True 56 https://www.assembly.go.kr/members/22nd/KIMWONI\n",
      "True 57 https://www.assembly.go.kr/members/22nd/KIMWISANG\n",
      "True 58 https://www.assembly.go.kr/members/22nd/KIMYOON\n",
      "True 59 https://www.assembly.go.kr/members/22nd/KIMYUNDUK\n",
      "True 60 https://www.assembly.go.kr/members/22nd/KIMEUNHYE\n",
      "True 61 https://www.assembly.go.kr/members/22nd/KIMJANGKYOM\n"
     ]
    },
    {
     "ename": "KeyboardInterrupt",
     "evalue": "",
     "output_type": "error",
     "traceback": [
      "\u001b[1;31m---------------------------------------------------------------------------\u001b[0m",
      "\u001b[1;31mKeyboardInterrupt\u001b[0m                         Traceback (most recent call last)",
      "Cell \u001b[1;32mIn[66], line 17\u001b[0m\n\u001b[0;32m     15\u001b[0m mem_sub_link \u001b[38;5;241m=\u001b[39m member[\u001b[38;5;124m'\u001b[39m\u001b[38;5;124mmLinkUrl\u001b[39m\u001b[38;5;124m'\u001b[39m]\n\u001b[0;32m     16\u001b[0m detail_url \u001b[38;5;241m=\u001b[39m \u001b[38;5;124mf\u001b[39m\u001b[38;5;124m'\u001b[39m\u001b[38;5;124mhttps://www.assembly.go.kr\u001b[39m\u001b[38;5;132;01m{\u001b[39;00mmem_sub_link\u001b[38;5;132;01m}\u001b[39;00m\u001b[38;5;124m'\u001b[39m\n\u001b[1;32m---> 17\u001b[0m res \u001b[38;5;241m=\u001b[39m requests\u001b[38;5;241m.\u001b[39mget(detail_url, headers\u001b[38;5;241m=\u001b[39mheaders)\n\u001b[0;32m     18\u001b[0m \u001b[38;5;28mprint\u001b[39m(res\u001b[38;5;241m.\u001b[39mok, idx, detail_url)\n\u001b[0;32m     20\u001b[0m \u001b[38;5;28;01mif\u001b[39;00m res\u001b[38;5;241m.\u001b[39mok:\n",
      "File \u001b[1;32mc:\\Users\\user\\anaconda3\\Lib\\site-packages\\requests\\api.py:73\u001b[0m, in \u001b[0;36mget\u001b[1;34m(url, params, **kwargs)\u001b[0m\n\u001b[0;32m     62\u001b[0m \u001b[38;5;28;01mdef\u001b[39;00m \u001b[38;5;21mget\u001b[39m(url, params\u001b[38;5;241m=\u001b[39m\u001b[38;5;28;01mNone\u001b[39;00m, \u001b[38;5;241m*\u001b[39m\u001b[38;5;241m*\u001b[39mkwargs):\n\u001b[0;32m     63\u001b[0m \u001b[38;5;250m    \u001b[39m\u001b[38;5;124mr\u001b[39m\u001b[38;5;124;03m\"\"\"Sends a GET request.\u001b[39;00m\n\u001b[0;32m     64\u001b[0m \n\u001b[0;32m     65\u001b[0m \u001b[38;5;124;03m    :param url: URL for the new :class:`Request` object.\u001b[39;00m\n\u001b[1;32m   (...)\u001b[0m\n\u001b[0;32m     70\u001b[0m \u001b[38;5;124;03m    :rtype: requests.Response\u001b[39;00m\n\u001b[0;32m     71\u001b[0m \u001b[38;5;124;03m    \"\"\"\u001b[39;00m\n\u001b[1;32m---> 73\u001b[0m     \u001b[38;5;28;01mreturn\u001b[39;00m request(\u001b[38;5;124m\"\u001b[39m\u001b[38;5;124mget\u001b[39m\u001b[38;5;124m\"\u001b[39m, url, params\u001b[38;5;241m=\u001b[39mparams, \u001b[38;5;241m*\u001b[39m\u001b[38;5;241m*\u001b[39mkwargs)\n",
      "File \u001b[1;32mc:\\Users\\user\\anaconda3\\Lib\\site-packages\\requests\\api.py:59\u001b[0m, in \u001b[0;36mrequest\u001b[1;34m(method, url, **kwargs)\u001b[0m\n\u001b[0;32m     55\u001b[0m \u001b[38;5;66;03m# By using the 'with' statement we are sure the session is closed, thus we\u001b[39;00m\n\u001b[0;32m     56\u001b[0m \u001b[38;5;66;03m# avoid leaving sockets open which can trigger a ResourceWarning in some\u001b[39;00m\n\u001b[0;32m     57\u001b[0m \u001b[38;5;66;03m# cases, and look like a memory leak in others.\u001b[39;00m\n\u001b[0;32m     58\u001b[0m \u001b[38;5;28;01mwith\u001b[39;00m sessions\u001b[38;5;241m.\u001b[39mSession() \u001b[38;5;28;01mas\u001b[39;00m session:\n\u001b[1;32m---> 59\u001b[0m     \u001b[38;5;28;01mreturn\u001b[39;00m session\u001b[38;5;241m.\u001b[39mrequest(method\u001b[38;5;241m=\u001b[39mmethod, url\u001b[38;5;241m=\u001b[39murl, \u001b[38;5;241m*\u001b[39m\u001b[38;5;241m*\u001b[39mkwargs)\n",
      "File \u001b[1;32mc:\\Users\\user\\anaconda3\\Lib\\site-packages\\requests\\sessions.py:589\u001b[0m, in \u001b[0;36mSession.request\u001b[1;34m(self, method, url, params, data, headers, cookies, files, auth, timeout, allow_redirects, proxies, hooks, stream, verify, cert, json)\u001b[0m\n\u001b[0;32m    584\u001b[0m send_kwargs \u001b[38;5;241m=\u001b[39m {\n\u001b[0;32m    585\u001b[0m     \u001b[38;5;124m\"\u001b[39m\u001b[38;5;124mtimeout\u001b[39m\u001b[38;5;124m\"\u001b[39m: timeout,\n\u001b[0;32m    586\u001b[0m     \u001b[38;5;124m\"\u001b[39m\u001b[38;5;124mallow_redirects\u001b[39m\u001b[38;5;124m\"\u001b[39m: allow_redirects,\n\u001b[0;32m    587\u001b[0m }\n\u001b[0;32m    588\u001b[0m send_kwargs\u001b[38;5;241m.\u001b[39mupdate(settings)\n\u001b[1;32m--> 589\u001b[0m resp \u001b[38;5;241m=\u001b[39m \u001b[38;5;28mself\u001b[39m\u001b[38;5;241m.\u001b[39msend(prep, \u001b[38;5;241m*\u001b[39m\u001b[38;5;241m*\u001b[39msend_kwargs)\n\u001b[0;32m    591\u001b[0m \u001b[38;5;28;01mreturn\u001b[39;00m resp\n",
      "File \u001b[1;32mc:\\Users\\user\\anaconda3\\Lib\\site-packages\\requests\\sessions.py:703\u001b[0m, in \u001b[0;36mSession.send\u001b[1;34m(self, request, **kwargs)\u001b[0m\n\u001b[0;32m    700\u001b[0m start \u001b[38;5;241m=\u001b[39m preferred_clock()\n\u001b[0;32m    702\u001b[0m \u001b[38;5;66;03m# Send the request\u001b[39;00m\n\u001b[1;32m--> 703\u001b[0m r \u001b[38;5;241m=\u001b[39m adapter\u001b[38;5;241m.\u001b[39msend(request, \u001b[38;5;241m*\u001b[39m\u001b[38;5;241m*\u001b[39mkwargs)\n\u001b[0;32m    705\u001b[0m \u001b[38;5;66;03m# Total elapsed time of the request (approximately)\u001b[39;00m\n\u001b[0;32m    706\u001b[0m elapsed \u001b[38;5;241m=\u001b[39m preferred_clock() \u001b[38;5;241m-\u001b[39m start\n",
      "File \u001b[1;32mc:\\Users\\user\\anaconda3\\Lib\\site-packages\\requests\\adapters.py:667\u001b[0m, in \u001b[0;36mHTTPAdapter.send\u001b[1;34m(self, request, stream, timeout, verify, cert, proxies)\u001b[0m\n\u001b[0;32m    664\u001b[0m     timeout \u001b[38;5;241m=\u001b[39m TimeoutSauce(connect\u001b[38;5;241m=\u001b[39mtimeout, read\u001b[38;5;241m=\u001b[39mtimeout)\n\u001b[0;32m    666\u001b[0m \u001b[38;5;28;01mtry\u001b[39;00m:\n\u001b[1;32m--> 667\u001b[0m     resp \u001b[38;5;241m=\u001b[39m conn\u001b[38;5;241m.\u001b[39murlopen(\n\u001b[0;32m    668\u001b[0m         method\u001b[38;5;241m=\u001b[39mrequest\u001b[38;5;241m.\u001b[39mmethod,\n\u001b[0;32m    669\u001b[0m         url\u001b[38;5;241m=\u001b[39murl,\n\u001b[0;32m    670\u001b[0m         body\u001b[38;5;241m=\u001b[39mrequest\u001b[38;5;241m.\u001b[39mbody,\n\u001b[0;32m    671\u001b[0m         headers\u001b[38;5;241m=\u001b[39mrequest\u001b[38;5;241m.\u001b[39mheaders,\n\u001b[0;32m    672\u001b[0m         redirect\u001b[38;5;241m=\u001b[39m\u001b[38;5;28;01mFalse\u001b[39;00m,\n\u001b[0;32m    673\u001b[0m         assert_same_host\u001b[38;5;241m=\u001b[39m\u001b[38;5;28;01mFalse\u001b[39;00m,\n\u001b[0;32m    674\u001b[0m         preload_content\u001b[38;5;241m=\u001b[39m\u001b[38;5;28;01mFalse\u001b[39;00m,\n\u001b[0;32m    675\u001b[0m         decode_content\u001b[38;5;241m=\u001b[39m\u001b[38;5;28;01mFalse\u001b[39;00m,\n\u001b[0;32m    676\u001b[0m         retries\u001b[38;5;241m=\u001b[39m\u001b[38;5;28mself\u001b[39m\u001b[38;5;241m.\u001b[39mmax_retries,\n\u001b[0;32m    677\u001b[0m         timeout\u001b[38;5;241m=\u001b[39mtimeout,\n\u001b[0;32m    678\u001b[0m         chunked\u001b[38;5;241m=\u001b[39mchunked,\n\u001b[0;32m    679\u001b[0m     )\n\u001b[0;32m    681\u001b[0m \u001b[38;5;28;01mexcept\u001b[39;00m (ProtocolError, \u001b[38;5;167;01mOSError\u001b[39;00m) \u001b[38;5;28;01mas\u001b[39;00m err:\n\u001b[0;32m    682\u001b[0m     \u001b[38;5;28;01mraise\u001b[39;00m \u001b[38;5;167;01mConnectionError\u001b[39;00m(err, request\u001b[38;5;241m=\u001b[39mrequest)\n",
      "File \u001b[1;32mc:\\Users\\user\\anaconda3\\Lib\\site-packages\\urllib3\\connectionpool.py:789\u001b[0m, in \u001b[0;36mHTTPConnectionPool.urlopen\u001b[1;34m(self, method, url, body, headers, retries, redirect, assert_same_host, timeout, pool_timeout, release_conn, chunked, body_pos, preload_content, decode_content, **response_kw)\u001b[0m\n\u001b[0;32m    786\u001b[0m response_conn \u001b[38;5;241m=\u001b[39m conn \u001b[38;5;28;01mif\u001b[39;00m \u001b[38;5;129;01mnot\u001b[39;00m release_conn \u001b[38;5;28;01melse\u001b[39;00m \u001b[38;5;28;01mNone\u001b[39;00m\n\u001b[0;32m    788\u001b[0m \u001b[38;5;66;03m# Make the request on the HTTPConnection object\u001b[39;00m\n\u001b[1;32m--> 789\u001b[0m response \u001b[38;5;241m=\u001b[39m \u001b[38;5;28mself\u001b[39m\u001b[38;5;241m.\u001b[39m_make_request(\n\u001b[0;32m    790\u001b[0m     conn,\n\u001b[0;32m    791\u001b[0m     method,\n\u001b[0;32m    792\u001b[0m     url,\n\u001b[0;32m    793\u001b[0m     timeout\u001b[38;5;241m=\u001b[39mtimeout_obj,\n\u001b[0;32m    794\u001b[0m     body\u001b[38;5;241m=\u001b[39mbody,\n\u001b[0;32m    795\u001b[0m     headers\u001b[38;5;241m=\u001b[39mheaders,\n\u001b[0;32m    796\u001b[0m     chunked\u001b[38;5;241m=\u001b[39mchunked,\n\u001b[0;32m    797\u001b[0m     retries\u001b[38;5;241m=\u001b[39mretries,\n\u001b[0;32m    798\u001b[0m     response_conn\u001b[38;5;241m=\u001b[39mresponse_conn,\n\u001b[0;32m    799\u001b[0m     preload_content\u001b[38;5;241m=\u001b[39mpreload_content,\n\u001b[0;32m    800\u001b[0m     decode_content\u001b[38;5;241m=\u001b[39mdecode_content,\n\u001b[0;32m    801\u001b[0m     \u001b[38;5;241m*\u001b[39m\u001b[38;5;241m*\u001b[39mresponse_kw,\n\u001b[0;32m    802\u001b[0m )\n\u001b[0;32m    804\u001b[0m \u001b[38;5;66;03m# Everything went great!\u001b[39;00m\n\u001b[0;32m    805\u001b[0m clean_exit \u001b[38;5;241m=\u001b[39m \u001b[38;5;28;01mTrue\u001b[39;00m\n",
      "File \u001b[1;32mc:\\Users\\user\\anaconda3\\Lib\\site-packages\\urllib3\\connectionpool.py:536\u001b[0m, in \u001b[0;36mHTTPConnectionPool._make_request\u001b[1;34m(self, conn, method, url, body, headers, retries, timeout, chunked, response_conn, preload_content, decode_content, enforce_content_length)\u001b[0m\n\u001b[0;32m    534\u001b[0m \u001b[38;5;66;03m# Receive the response from the server\u001b[39;00m\n\u001b[0;32m    535\u001b[0m \u001b[38;5;28;01mtry\u001b[39;00m:\n\u001b[1;32m--> 536\u001b[0m     response \u001b[38;5;241m=\u001b[39m conn\u001b[38;5;241m.\u001b[39mgetresponse()\n\u001b[0;32m    537\u001b[0m \u001b[38;5;28;01mexcept\u001b[39;00m (BaseSSLError, \u001b[38;5;167;01mOSError\u001b[39;00m) \u001b[38;5;28;01mas\u001b[39;00m e:\n\u001b[0;32m    538\u001b[0m     \u001b[38;5;28mself\u001b[39m\u001b[38;5;241m.\u001b[39m_raise_timeout(err\u001b[38;5;241m=\u001b[39me, url\u001b[38;5;241m=\u001b[39murl, timeout_value\u001b[38;5;241m=\u001b[39mread_timeout)\n",
      "File \u001b[1;32mc:\\Users\\user\\anaconda3\\Lib\\site-packages\\urllib3\\connection.py:507\u001b[0m, in \u001b[0;36mHTTPConnection.getresponse\u001b[1;34m(self)\u001b[0m\n\u001b[0;32m    504\u001b[0m \u001b[38;5;28;01mfrom\u001b[39;00m \u001b[38;5;21;01m.\u001b[39;00m\u001b[38;5;21;01mresponse\u001b[39;00m \u001b[38;5;28;01mimport\u001b[39;00m HTTPResponse\n\u001b[0;32m    506\u001b[0m \u001b[38;5;66;03m# Get the response from http.client.HTTPConnection\u001b[39;00m\n\u001b[1;32m--> 507\u001b[0m httplib_response \u001b[38;5;241m=\u001b[39m \u001b[38;5;28msuper\u001b[39m()\u001b[38;5;241m.\u001b[39mgetresponse()\n\u001b[0;32m    509\u001b[0m \u001b[38;5;28;01mtry\u001b[39;00m:\n\u001b[0;32m    510\u001b[0m     assert_header_parsing(httplib_response\u001b[38;5;241m.\u001b[39mmsg)\n",
      "File \u001b[1;32mc:\\Users\\user\\anaconda3\\Lib\\http\\client.py:1428\u001b[0m, in \u001b[0;36mHTTPConnection.getresponse\u001b[1;34m(self)\u001b[0m\n\u001b[0;32m   1426\u001b[0m \u001b[38;5;28;01mtry\u001b[39;00m:\n\u001b[0;32m   1427\u001b[0m     \u001b[38;5;28;01mtry\u001b[39;00m:\n\u001b[1;32m-> 1428\u001b[0m         response\u001b[38;5;241m.\u001b[39mbegin()\n\u001b[0;32m   1429\u001b[0m     \u001b[38;5;28;01mexcept\u001b[39;00m \u001b[38;5;167;01mConnectionError\u001b[39;00m:\n\u001b[0;32m   1430\u001b[0m         \u001b[38;5;28mself\u001b[39m\u001b[38;5;241m.\u001b[39mclose()\n",
      "File \u001b[1;32mc:\\Users\\user\\anaconda3\\Lib\\http\\client.py:331\u001b[0m, in \u001b[0;36mHTTPResponse.begin\u001b[1;34m(self)\u001b[0m\n\u001b[0;32m    329\u001b[0m \u001b[38;5;66;03m# read until we get a non-100 response\u001b[39;00m\n\u001b[0;32m    330\u001b[0m \u001b[38;5;28;01mwhile\u001b[39;00m \u001b[38;5;28;01mTrue\u001b[39;00m:\n\u001b[1;32m--> 331\u001b[0m     version, status, reason \u001b[38;5;241m=\u001b[39m \u001b[38;5;28mself\u001b[39m\u001b[38;5;241m.\u001b[39m_read_status()\n\u001b[0;32m    332\u001b[0m     \u001b[38;5;28;01mif\u001b[39;00m status \u001b[38;5;241m!=\u001b[39m CONTINUE:\n\u001b[0;32m    333\u001b[0m         \u001b[38;5;28;01mbreak\u001b[39;00m\n",
      "File \u001b[1;32mc:\\Users\\user\\anaconda3\\Lib\\http\\client.py:292\u001b[0m, in \u001b[0;36mHTTPResponse._read_status\u001b[1;34m(self)\u001b[0m\n\u001b[0;32m    291\u001b[0m \u001b[38;5;28;01mdef\u001b[39;00m \u001b[38;5;21m_read_status\u001b[39m(\u001b[38;5;28mself\u001b[39m):\n\u001b[1;32m--> 292\u001b[0m     line \u001b[38;5;241m=\u001b[39m \u001b[38;5;28mstr\u001b[39m(\u001b[38;5;28mself\u001b[39m\u001b[38;5;241m.\u001b[39mfp\u001b[38;5;241m.\u001b[39mreadline(_MAXLINE \u001b[38;5;241m+\u001b[39m \u001b[38;5;241m1\u001b[39m), \u001b[38;5;124m\"\u001b[39m\u001b[38;5;124miso-8859-1\u001b[39m\u001b[38;5;124m\"\u001b[39m)\n\u001b[0;32m    293\u001b[0m     \u001b[38;5;28;01mif\u001b[39;00m \u001b[38;5;28mlen\u001b[39m(line) \u001b[38;5;241m>\u001b[39m _MAXLINE:\n\u001b[0;32m    294\u001b[0m         \u001b[38;5;28;01mraise\u001b[39;00m LineTooLong(\u001b[38;5;124m\"\u001b[39m\u001b[38;5;124mstatus line\u001b[39m\u001b[38;5;124m\"\u001b[39m)\n",
      "File \u001b[1;32mc:\\Users\\user\\anaconda3\\Lib\\socket.py:720\u001b[0m, in \u001b[0;36mSocketIO.readinto\u001b[1;34m(self, b)\u001b[0m\n\u001b[0;32m    718\u001b[0m \u001b[38;5;28;01mwhile\u001b[39;00m \u001b[38;5;28;01mTrue\u001b[39;00m:\n\u001b[0;32m    719\u001b[0m     \u001b[38;5;28;01mtry\u001b[39;00m:\n\u001b[1;32m--> 720\u001b[0m         \u001b[38;5;28;01mreturn\u001b[39;00m \u001b[38;5;28mself\u001b[39m\u001b[38;5;241m.\u001b[39m_sock\u001b[38;5;241m.\u001b[39mrecv_into(b)\n\u001b[0;32m    721\u001b[0m     \u001b[38;5;28;01mexcept\u001b[39;00m timeout:\n\u001b[0;32m    722\u001b[0m         \u001b[38;5;28mself\u001b[39m\u001b[38;5;241m.\u001b[39m_timeout_occurred \u001b[38;5;241m=\u001b[39m \u001b[38;5;28;01mTrue\u001b[39;00m\n",
      "File \u001b[1;32mc:\\Users\\user\\anaconda3\\Lib\\ssl.py:1251\u001b[0m, in \u001b[0;36mSSLSocket.recv_into\u001b[1;34m(self, buffer, nbytes, flags)\u001b[0m\n\u001b[0;32m   1247\u001b[0m     \u001b[38;5;28;01mif\u001b[39;00m flags \u001b[38;5;241m!=\u001b[39m \u001b[38;5;241m0\u001b[39m:\n\u001b[0;32m   1248\u001b[0m         \u001b[38;5;28;01mraise\u001b[39;00m \u001b[38;5;167;01mValueError\u001b[39;00m(\n\u001b[0;32m   1249\u001b[0m           \u001b[38;5;124m\"\u001b[39m\u001b[38;5;124mnon-zero flags not allowed in calls to recv_into() on \u001b[39m\u001b[38;5;132;01m%s\u001b[39;00m\u001b[38;5;124m\"\u001b[39m \u001b[38;5;241m%\u001b[39m\n\u001b[0;32m   1250\u001b[0m           \u001b[38;5;28mself\u001b[39m\u001b[38;5;241m.\u001b[39m\u001b[38;5;18m__class__\u001b[39m)\n\u001b[1;32m-> 1251\u001b[0m     \u001b[38;5;28;01mreturn\u001b[39;00m \u001b[38;5;28mself\u001b[39m\u001b[38;5;241m.\u001b[39mread(nbytes, buffer)\n\u001b[0;32m   1252\u001b[0m \u001b[38;5;28;01melse\u001b[39;00m:\n\u001b[0;32m   1253\u001b[0m     \u001b[38;5;28;01mreturn\u001b[39;00m \u001b[38;5;28msuper\u001b[39m()\u001b[38;5;241m.\u001b[39mrecv_into(buffer, nbytes, flags)\n",
      "File \u001b[1;32mc:\\Users\\user\\anaconda3\\Lib\\ssl.py:1103\u001b[0m, in \u001b[0;36mSSLSocket.read\u001b[1;34m(self, len, buffer)\u001b[0m\n\u001b[0;32m   1101\u001b[0m \u001b[38;5;28;01mtry\u001b[39;00m:\n\u001b[0;32m   1102\u001b[0m     \u001b[38;5;28;01mif\u001b[39;00m buffer \u001b[38;5;129;01mis\u001b[39;00m \u001b[38;5;129;01mnot\u001b[39;00m \u001b[38;5;28;01mNone\u001b[39;00m:\n\u001b[1;32m-> 1103\u001b[0m         \u001b[38;5;28;01mreturn\u001b[39;00m \u001b[38;5;28mself\u001b[39m\u001b[38;5;241m.\u001b[39m_sslobj\u001b[38;5;241m.\u001b[39mread(\u001b[38;5;28mlen\u001b[39m, buffer)\n\u001b[0;32m   1104\u001b[0m     \u001b[38;5;28;01melse\u001b[39;00m:\n\u001b[0;32m   1105\u001b[0m         \u001b[38;5;28;01mreturn\u001b[39;00m \u001b[38;5;28mself\u001b[39m\u001b[38;5;241m.\u001b[39m_sslobj\u001b[38;5;241m.\u001b[39mread(\u001b[38;5;28mlen\u001b[39m)\n",
      "\u001b[1;31mKeyboardInterrupt\u001b[0m: "
     ]
    }
   ],
   "source": [
    "import requests\n",
    "from bs4 import BeautifulSoup\n",
    "import re\n",
    "from urllib.parse import urljoin\n",
    "\n",
    "print('===> 스크래핑 시작')\n",
    "#297명의 정보를 저장하는 List\n",
    "member_detail_list = []\n",
    "\n",
    "headers = {\n",
    "    'user-agent':'Mozilla/5.0 (Windows NT 10.0; Win64; x64) AppleWebKit/537.36 (KHTML, like Gecko) Chrome/74.0.3729.169 Safari/537.36'\n",
    "}\n",
    "\n",
    "for idx,member in enumerate(member_list_300,1):\n",
    "    mem_sub_link = member['mLinkUrl']\n",
    "    detail_url = f'https://www.assembly.go.kr{mem_sub_link}'\n",
    "    res = requests.get(detail_url, headers=headers)\n",
    "    print(res.ok, idx, detail_url)\n",
    "    \n",
    "    if res.ok:\n",
    "        soup = BeautifulSoup(res.text, 'html.parser')\n",
    "        \n",
    "        #1명의 정보를 저장하는 dict 선언\n",
    "        member_detail_dict = {}\n",
    "        \n",
    "        li_tags = soup.select('ul.list li:nth-of-type(n+4)')\n",
    "        #print(li_tags)\n",
    "        # for li in li_tags:\n",
    "        #     print(type(li.find('dt')))\n",
    "        #     print(li.find('dt').text)\n",
    "        \n",
    "        dt_list = [li_tag.find('dt').text for li_tag in li_tags]\n",
    "        #print(dt_list)\n",
    "\n",
    "        dd_list = []        \n",
    "        for li_tag in li_tags:\n",
    "            dd_tag = li_tag.find('dd')\n",
    "            pattern = re.compile(f'[\\n\\r\\t]')\n",
    "            dd_text = pattern.sub('',dd_tag.text.strip()).replace(\" \",\"\")\n",
    "            dd_list.append(dd_text)\n",
    "        #print(dd_list)\n",
    "        \n",
    "        member_detail_dict = dict(zip(dt_list, dd_list))\n",
    "\n",
    "        member_detail_dict['이름'] = member['hgNm']        \n",
    "        member_detail_dict['정당'] = member['polyNm']\n",
    "        member_detail_dict['성별'] = member['sexGbnNm']\n",
    "        member_detail_dict['선거구'] = member['origNm']\n",
    "        member_detail_dict['지역비례'] = member['electGbnNm']\n",
    "\n",
    "        sosok = member['cmitNm']\n",
    "        if sosok is not None:\n",
    "            idx = sosok.find(',')\n",
    "            if idx > -1:            \n",
    "                member_detail_dict['소속위원회'] = sosok[:idx]\n",
    "            else:\n",
    "                member_detail_dict['소속위원회'] = sosok\n",
    "        else:        \n",
    "            member_detail_dict['소속위원회'] = ''    \n",
    "\n",
    "        # print(member_detail_dict['소속위원회'])                        \n",
    "        \n",
    "        member_detail_dict['당선횟수'] = member['reeleGbnNm']\n",
    "        \n",
    "        img_sub_url = member['mThumbImgUrl']\n",
    "        img_url = urljoin(detail_url,img_sub_url)\n",
    "        #print(img_url)\n",
    "        member_detail_dict['이미지'] = img_url\n",
    "        \n",
    "        #pprint(member_detail_dict)        \n",
    "                        \n",
    "        #1명의 정보가 저장된 dict를 list에 추가하기\n",
    "        member_detail_list.append(member_detail_dict)\n",
    "    else:\n",
    "        print(res.status_code)\n",
    "        \n",
    "print(len(member_detail_list))\n",
    "print(member_detail_list[297:])\n",
    "print('===> 스크래핑 끝')"
   ]
  },
  {
   "cell_type": "markdown",
   "id": "2d203882",
   "metadata": {},
   "source": [
    "### 웹스크래핑한 데이터를 Pandas DataFrame객체로 저장하여 분석 및 시각화"
   ]
  },
  {
   "cell_type": "code",
   "execution_count": null,
   "id": "0b72c2f5",
   "metadata": {},
   "outputs": [
    {
     "name": "stdout",
     "output_type": "stream",
     "text": [
      "Index(['이름', '정당', '선거구', '당선횟수', '지역비례', '성별', '소속위원회', '이미지', '사무실 전화',\n",
      "       '사무실 호실', '개별 홈페이지', '이메일', '보좌관', '선임비서관', '비서관', '의원실 안내'],\n",
      "      dtype='object')\n",
      "(3, 16)\n"
     ]
    },
    {
     "data": {
      "text/html": [
       "<div>\n",
       "<style scoped>\n",
       "    .dataframe tbody tr th:only-of-type {\n",
       "        vertical-align: middle;\n",
       "    }\n",
       "\n",
       "    .dataframe tbody tr th {\n",
       "        vertical-align: top;\n",
       "    }\n",
       "\n",
       "    .dataframe thead th {\n",
       "        text-align: right;\n",
       "    }\n",
       "</style>\n",
       "<table border=\"1\" class=\"dataframe\">\n",
       "  <thead>\n",
       "    <tr style=\"text-align: right;\">\n",
       "      <th></th>\n",
       "      <th>이름</th>\n",
       "      <th>정당</th>\n",
       "      <th>선거구</th>\n",
       "      <th>당선횟수</th>\n",
       "      <th>지역비례</th>\n",
       "      <th>성별</th>\n",
       "      <th>소속위원회</th>\n",
       "      <th>이미지</th>\n",
       "      <th>사무실 전화</th>\n",
       "      <th>사무실 호실</th>\n",
       "      <th>개별 홈페이지</th>\n",
       "      <th>이메일</th>\n",
       "      <th>보좌관</th>\n",
       "      <th>선임비서관</th>\n",
       "      <th>비서관</th>\n",
       "      <th>의원실 안내</th>\n",
       "    </tr>\n",
       "  </thead>\n",
       "  <tbody>\n",
       "    <tr>\n",
       "      <th>0</th>\n",
       "      <td>강경숙</td>\n",
       "      <td>조국혁신당</td>\n",
       "      <td>비례대표</td>\n",
       "      <td>NaN</td>\n",
       "      <td>비례대표</td>\n",
       "      <td>여</td>\n",
       "      <td>NaN</td>\n",
       "      <td>NaN</td>\n",
       "      <td>02-784-5601</td>\n",
       "      <td>의원회관515호</td>\n",
       "      <td>https://blog.naver.com/grace6752</td>\n",
       "      <td>gracesook52@rebuildingk.kr</td>\n",
       "      <td>김재삼,서용선</td>\n",
       "      <td>김홍,오세령</td>\n",
       "      <td>권혁,박문혁,김예닮,이경열,김희경</td>\n",
       "      <td></td>\n",
       "    </tr>\n",
       "    <tr>\n",
       "      <th>0</th>\n",
       "      <td>강대식</td>\n",
       "      <td>국민의힘</td>\n",
       "      <td>대구 동구군위군을</td>\n",
       "      <td>NaN</td>\n",
       "      <td>지역구</td>\n",
       "      <td>남</td>\n",
       "      <td>NaN</td>\n",
       "      <td>NaN</td>\n",
       "      <td>02-784-5275</td>\n",
       "      <td>의원회관341호</td>\n",
       "      <td></td>\n",
       "      <td>kds21341@naver.com</td>\n",
       "      <td>박홍규,유진영</td>\n",
       "      <td>김기일,이기백</td>\n",
       "      <td>박순권,김현정,황인택,박동혁,이정은</td>\n",
       "      <td></td>\n",
       "    </tr>\n",
       "  </tbody>\n",
       "</table>\n",
       "</div>"
      ],
      "text/plain": [
       "    이름     정당        선거구 당선횟수  지역비례 성별 소속위원회  이미지       사무실 전화    사무실 호실  \\\n",
       "0  강경숙  조국혁신당       비례대표  NaN  비례대표  여   NaN  NaN  02-784-5601  의원회관515호   \n",
       "0  강대식   국민의힘  대구 동구군위군을  NaN   지역구  남   NaN  NaN  02-784-5275  의원회관341호   \n",
       "\n",
       "                            개별 홈페이지                         이메일      보좌관  \\\n",
       "0  https://blog.naver.com/grace6752  gracesook52@rebuildingk.kr  김재삼,서용선   \n",
       "0                                            kds21341@naver.com  박홍규,유진영   \n",
       "\n",
       "     선임비서관                  비서관 의원실 안내  \n",
       "0   김홍,오세령   권혁,박문혁,김예닮,이경열,김희경         \n",
       "0  김기일,이기백  박순권,김현정,황인택,박동혁,이정은         "
      ]
     },
     "execution_count": 29,
     "metadata": {},
     "output_type": "execute_result"
    }
   ],
   "source": [
    "import pandas as pd\n",
    "\n",
    "member_df = pd.DataFrame(columns=['이름','정당','선거구','당선횟수','지역비례','성별','소속위원회','이미지','사무실 전화','사무실 호실',\\\n",
    "                                  '개별 홈페이지','이메일','보좌관','선임비서관','비서관','의원실 안내'])\n",
    "\n",
    "for member_detail in member_detail_list:\n",
    "    # Row 하나 생성\n",
    "    df_new_row = pd.DataFrame.from_records([member_detail])\n",
    "    member_df = pd.concat([member_df, df_new_row])\n",
    "    # dict <=> Series\n",
    "    #series_obj = pd.Series(member_detail)\n",
    "    # Series 객체를 append \n",
    "    #member_df = member_df.append(series_obj, ignore_index=True)\n",
    "\n",
    "print(member_df.columns)\n",
    "print(member_df.shape)    \n",
    "member_df.head(2)"
   ]
  },
  {
   "cell_type": "code",
   "execution_count": null,
   "id": "5c6ec12c",
   "metadata": {},
   "outputs": [
    {
     "name": "stdout",
     "output_type": "stream",
     "text": [
      "RangeIndex(start=1, stop=4, step=1)\n"
     ]
    }
   ],
   "source": [
    "#index가 1부터 시작하도록 재설정 \n",
    "member_df.reset_index(drop=True, inplace =True)\n",
    "member_df.index = member_df.index +1\n",
    "print(member_df.index)"
   ]
  },
  {
   "cell_type": "code",
   "execution_count": null,
   "id": "71ed1ea6",
   "metadata": {},
   "outputs": [
    {
     "data": {
      "text/html": [
       "<div>\n",
       "<style scoped>\n",
       "    .dataframe tbody tr th:only-of-type {\n",
       "        vertical-align: middle;\n",
       "    }\n",
       "\n",
       "    .dataframe tbody tr th {\n",
       "        vertical-align: top;\n",
       "    }\n",
       "\n",
       "    .dataframe thead th {\n",
       "        text-align: right;\n",
       "    }\n",
       "</style>\n",
       "<table border=\"1\" class=\"dataframe\">\n",
       "  <thead>\n",
       "    <tr style=\"text-align: right;\">\n",
       "      <th></th>\n",
       "      <th>이름</th>\n",
       "      <th>정당</th>\n",
       "      <th>선거구</th>\n",
       "      <th>당선횟수</th>\n",
       "      <th>지역비례</th>\n",
       "      <th>성별</th>\n",
       "      <th>소속위원회</th>\n",
       "      <th>이미지</th>\n",
       "      <th>사무실 전화</th>\n",
       "      <th>사무실 호실</th>\n",
       "      <th>개별 홈페이지</th>\n",
       "      <th>이메일</th>\n",
       "      <th>보좌관</th>\n",
       "      <th>선임비서관</th>\n",
       "      <th>비서관</th>\n",
       "      <th>의원실 안내</th>\n",
       "    </tr>\n",
       "  </thead>\n",
       "  <tbody>\n",
       "    <tr>\n",
       "      <th>1</th>\n",
       "      <td>강경숙</td>\n",
       "      <td>조국혁신당</td>\n",
       "      <td>비례대표</td>\n",
       "      <td>NaN</td>\n",
       "      <td>비례대표</td>\n",
       "      <td>여</td>\n",
       "      <td>NaN</td>\n",
       "      <td>NaN</td>\n",
       "      <td>02-784-5601</td>\n",
       "      <td>의원회관515호</td>\n",
       "      <td>https://blog.naver.com/grace6752</td>\n",
       "      <td>gracesook52@rebuildingk.kr</td>\n",
       "      <td>김재삼,서용선</td>\n",
       "      <td>김홍,오세령</td>\n",
       "      <td>권혁,박문혁,김예닮,이경열,김희경</td>\n",
       "      <td></td>\n",
       "    </tr>\n",
       "    <tr>\n",
       "      <th>2</th>\n",
       "      <td>강대식</td>\n",
       "      <td>국민의힘</td>\n",
       "      <td>대구 동구군위군을</td>\n",
       "      <td>NaN</td>\n",
       "      <td>지역구</td>\n",
       "      <td>남</td>\n",
       "      <td>NaN</td>\n",
       "      <td>NaN</td>\n",
       "      <td>02-784-5275</td>\n",
       "      <td>의원회관341호</td>\n",
       "      <td></td>\n",
       "      <td>kds21341@naver.com</td>\n",
       "      <td>박홍규,유진영</td>\n",
       "      <td>김기일,이기백</td>\n",
       "      <td>박순권,김현정,황인택,박동혁,이정은</td>\n",
       "      <td></td>\n",
       "    </tr>\n",
       "    <tr>\n",
       "      <th>3</th>\n",
       "      <td>강득구</td>\n",
       "      <td>더불어민주당</td>\n",
       "      <td>경기 안양시만안구</td>\n",
       "      <td>NaN</td>\n",
       "      <td>지역구</td>\n",
       "      <td>남</td>\n",
       "      <td>NaN</td>\n",
       "      <td>NaN</td>\n",
       "      <td>02-784-2747~9</td>\n",
       "      <td>의원회관814호</td>\n",
       "      <td>http://blog.naver.com/dulipapa</td>\n",
       "      <td>mainsail440@daum.net</td>\n",
       "      <td>윤재우,정진태</td>\n",
       "      <td>최경순,홍미하</td>\n",
       "      <td>김창용,노주엽,남소영,홍영민,박시연</td>\n",
       "      <td>강득구의원의'사람중심민생중심'의정활동이국민의삶에힘이되도록최선을다하고있습니다.강득구의...</td>\n",
       "    </tr>\n",
       "  </tbody>\n",
       "</table>\n",
       "</div>"
      ],
      "text/plain": [
       "    이름      정당        선거구 당선횟수  지역비례 성별 소속위원회  이미지         사무실 전화    사무실 호실  \\\n",
       "1  강경숙   조국혁신당       비례대표  NaN  비례대표  여   NaN  NaN    02-784-5601  의원회관515호   \n",
       "2  강대식    국민의힘  대구 동구군위군을  NaN   지역구  남   NaN  NaN    02-784-5275  의원회관341호   \n",
       "3  강득구  더불어민주당  경기 안양시만안구  NaN   지역구  남   NaN  NaN  02-784-2747~9  의원회관814호   \n",
       "\n",
       "                            개별 홈페이지                         이메일      보좌관  \\\n",
       "1  https://blog.naver.com/grace6752  gracesook52@rebuildingk.kr  김재삼,서용선   \n",
       "2                                            kds21341@naver.com  박홍규,유진영   \n",
       "3    http://blog.naver.com/dulipapa        mainsail440@daum.net  윤재우,정진태   \n",
       "\n",
       "     선임비서관                  비서관  \\\n",
       "1   김홍,오세령   권혁,박문혁,김예닮,이경열,김희경   \n",
       "2  김기일,이기백  박순권,김현정,황인택,박동혁,이정은   \n",
       "3  최경순,홍미하  김창용,노주엽,남소영,홍영민,박시연   \n",
       "\n",
       "                                              의원실 안내  \n",
       "1                                                     \n",
       "2                                                     \n",
       "3  강득구의원의'사람중심민생중심'의정활동이국민의삶에힘이되도록최선을다하고있습니다.강득구의...  "
      ]
     },
     "execution_count": 31,
     "metadata": {},
     "output_type": "execute_result"
    }
   ],
   "source": [
    "member_df.head()\n"
   ]
  },
  {
   "cell_type": "code",
   "execution_count": null,
   "id": "28d83919",
   "metadata": {},
   "outputs": [
    {
     "data": {
      "text/plain": [
       "array(['조국혁신당', '국민의힘', '더불어민주당'], dtype=object)"
      ]
     },
     "execution_count": 32,
     "metadata": {},
     "output_type": "execute_result"
    }
   ],
   "source": [
    "member_df['정당'].unique()"
   ]
  },
  {
   "cell_type": "code",
   "execution_count": null,
   "id": "96e24b3c",
   "metadata": {},
   "outputs": [
    {
     "data": {
      "text/plain": [
       "정당\n",
       "조국혁신당     1\n",
       "국민의힘      1\n",
       "더불어민주당    1\n",
       "Name: count, dtype: int64"
      ]
     },
     "execution_count": 33,
     "metadata": {},
     "output_type": "execute_result"
    }
   ],
   "source": [
    "member_df['정당'].value_counts()"
   ]
  },
  {
   "cell_type": "code",
   "execution_count": null,
   "id": "01c2d920",
   "metadata": {},
   "outputs": [
    {
     "data": {
      "text/plain": [
       "Series([], Name: count, dtype: int64)"
      ]
     },
     "execution_count": 34,
     "metadata": {},
     "output_type": "execute_result"
    }
   ],
   "source": [
    "member_df['당선횟수'].value_counts()"
   ]
  },
  {
   "cell_type": "code",
   "execution_count": null,
   "id": "412f7227",
   "metadata": {},
   "outputs": [
    {
     "data": {
      "text/plain": [
       "선거구\n",
       "비례대표         1\n",
       "대구 동구군위군을    1\n",
       "경기 안양시만안구    1\n",
       "Name: count, dtype: int64"
      ]
     },
     "execution_count": 35,
     "metadata": {},
     "output_type": "execute_result"
    }
   ],
   "source": [
    "member_df['선거구'].value_counts()"
   ]
  },
  {
   "cell_type": "code",
   "execution_count": null,
   "id": "f9352c82",
   "metadata": {},
   "outputs": [
    {
     "data": {
      "text/html": [
       "<div>\n",
       "<style scoped>\n",
       "    .dataframe tbody tr th:only-of-type {\n",
       "        vertical-align: middle;\n",
       "    }\n",
       "\n",
       "    .dataframe tbody tr th {\n",
       "        vertical-align: top;\n",
       "    }\n",
       "\n",
       "    .dataframe thead th {\n",
       "        text-align: right;\n",
       "    }\n",
       "</style>\n",
       "<table border=\"1\" class=\"dataframe\">\n",
       "  <thead>\n",
       "    <tr style=\"text-align: right;\">\n",
       "      <th></th>\n",
       "      <th>이름</th>\n",
       "      <th>정당</th>\n",
       "      <th>선거구</th>\n",
       "      <th>당선횟수</th>\n",
       "      <th>지역비례</th>\n",
       "      <th>성별</th>\n",
       "      <th>소속위원회</th>\n",
       "      <th>이미지</th>\n",
       "      <th>사무실 전화</th>\n",
       "      <th>사무실 호실</th>\n",
       "      <th>개별 홈페이지</th>\n",
       "      <th>이메일</th>\n",
       "      <th>보좌관</th>\n",
       "      <th>선임비서관</th>\n",
       "      <th>비서관</th>\n",
       "      <th>의원실 안내</th>\n",
       "    </tr>\n",
       "  </thead>\n",
       "  <tbody>\n",
       "  </tbody>\n",
       "</table>\n",
       "</div>"
      ],
      "text/plain": [
       "Empty DataFrame\n",
       "Columns: [이름, 정당, 선거구, 당선횟수, 지역비례, 성별, 소속위원회, 이미지, 사무실 전화, 사무실 호실, 개별 홈페이지, 이메일, 보좌관, 선임비서관, 비서관, 의원실 안내]\n",
       "Index: []"
      ]
     },
     "execution_count": 36,
     "metadata": {},
     "output_type": "execute_result"
    }
   ],
   "source": [
    "member_df.loc[member_df['당선횟수']== '6선']"
   ]
  },
  {
   "cell_type": "code",
   "execution_count": null,
   "id": "82991cec",
   "metadata": {},
   "outputs": [
    {
     "data": {
      "text/plain": [
       "성별\n",
       "남    0.666667\n",
       "여    0.333333\n",
       "Name: proportion, dtype: float64"
      ]
     },
     "execution_count": 37,
     "metadata": {},
     "output_type": "execute_result"
    }
   ],
   "source": [
    "member_df['성별'].value_counts(normalize=True)"
   ]
  },
  {
   "cell_type": "code",
   "execution_count": null,
   "id": "4a34ce36",
   "metadata": {},
   "outputs": [
    {
     "data": {
      "text/plain": [
       "선거구\n",
       "비례대표         1\n",
       "대구 동구군위군을    1\n",
       "경기 안양시만안구    1\n",
       "Name: count, dtype: int64"
      ]
     },
     "execution_count": 38,
     "metadata": {},
     "output_type": "execute_result"
    }
   ],
   "source": [
    "member_df['선거구'].value_counts()"
   ]
  },
  {
   "cell_type": "code",
   "execution_count": null,
   "id": "080156ba",
   "metadata": {},
   "outputs": [
    {
     "data": {
      "text/html": [
       "<div>\n",
       "<style scoped>\n",
       "    .dataframe tbody tr th:only-of-type {\n",
       "        vertical-align: middle;\n",
       "    }\n",
       "\n",
       "    .dataframe tbody tr th {\n",
       "        vertical-align: top;\n",
       "    }\n",
       "\n",
       "    .dataframe thead th {\n",
       "        text-align: right;\n",
       "    }\n",
       "</style>\n",
       "<table border=\"1\" class=\"dataframe\">\n",
       "  <thead>\n",
       "    <tr style=\"text-align: right;\">\n",
       "      <th></th>\n",
       "      <th>이름</th>\n",
       "      <th>정당</th>\n",
       "      <th>선거구</th>\n",
       "      <th>당선횟수</th>\n",
       "      <th>지역비례</th>\n",
       "      <th>성별</th>\n",
       "      <th>소속위원회</th>\n",
       "      <th>이미지</th>\n",
       "      <th>사무실 전화</th>\n",
       "      <th>사무실 호실</th>\n",
       "      <th>개별 홈페이지</th>\n",
       "      <th>이메일</th>\n",
       "      <th>보좌관</th>\n",
       "      <th>선임비서관</th>\n",
       "      <th>비서관</th>\n",
       "      <th>의원실 안내</th>\n",
       "      <th>선거구2</th>\n",
       "    </tr>\n",
       "  </thead>\n",
       "  <tbody>\n",
       "  </tbody>\n",
       "</table>\n",
       "</div>"
      ],
      "text/plain": [
       "Empty DataFrame\n",
       "Columns: [이름, 정당, 선거구, 당선횟수, 지역비례, 성별, 소속위원회, 이미지, 사무실 전화, 사무실 호실, 개별 홈페이지, 이메일, 보좌관, 선임비서관, 비서관, 의원실 안내, 선거구2]\n",
       "Index: []"
      ]
     },
     "execution_count": 55,
     "metadata": {},
     "output_type": "execute_result"
    }
   ],
   "source": [
    "member_df.loc[member_df['당선횟수']== '6선']"
   ]
  },
  {
   "cell_type": "code",
   "execution_count": null,
   "id": "f931f7ae",
   "metadata": {},
   "outputs": [
    {
     "data": {
      "text/plain": [
       "선거구2\n",
       "비례    1\n",
       "대구    1\n",
       "경기    1\n",
       "Name: count, dtype: int64"
      ]
     },
     "execution_count": 56,
     "metadata": {},
     "output_type": "execute_result"
    }
   ],
   "source": [
    "member_df['선거구2'].value_counts()"
   ]
  },
  {
   "cell_type": "code",
   "execution_count": null,
   "id": "0bd27737",
   "metadata": {},
   "outputs": [
    {
     "data": {
      "text/plain": [
       "선거구2\n",
       "비례    0.333333\n",
       "대구    0.333333\n",
       "경기    0.333333\n",
       "Name: proportion, dtype: float64"
      ]
     },
     "execution_count": 57,
     "metadata": {},
     "output_type": "execute_result"
    }
   ],
   "source": [
    "member_df['선거구2'].value_counts(normalize=True)"
   ]
  },
  {
   "cell_type": "code",
   "execution_count": null,
   "id": "0605aa8e",
   "metadata": {},
   "outputs": [
    {
     "name": "stdout",
     "output_type": "stream",
     "text": [
      "<class 'pandas.core.series.Series'>\n",
      "<class 'pandas.core.strings.accessor.StringMethods'>\n"
     ]
    },
    {
     "data": {
      "text/html": [
       "<div>\n",
       "<style scoped>\n",
       "    .dataframe tbody tr th:only-of-type {\n",
       "        vertical-align: middle;\n",
       "    }\n",
       "\n",
       "    .dataframe tbody tr th {\n",
       "        vertical-align: top;\n",
       "    }\n",
       "\n",
       "    .dataframe thead th {\n",
       "        text-align: right;\n",
       "    }\n",
       "</style>\n",
       "<table border=\"1\" class=\"dataframe\">\n",
       "  <thead>\n",
       "    <tr style=\"text-align: right;\">\n",
       "      <th></th>\n",
       "      <th>선거구</th>\n",
       "      <th>선거구2</th>\n",
       "    </tr>\n",
       "  </thead>\n",
       "  <tbody>\n",
       "    <tr>\n",
       "      <th>1</th>\n",
       "      <td>비례대표</td>\n",
       "      <td>비례</td>\n",
       "    </tr>\n",
       "    <tr>\n",
       "      <th>2</th>\n",
       "      <td>대구 동구군위군을</td>\n",
       "      <td>대구</td>\n",
       "    </tr>\n",
       "    <tr>\n",
       "      <th>3</th>\n",
       "      <td>경기 안양시만안구</td>\n",
       "      <td>경기</td>\n",
       "    </tr>\n",
       "  </tbody>\n",
       "</table>\n",
       "</div>"
      ],
      "text/plain": [
       "         선거구 선거구2\n",
       "1       비례대표   비례\n",
       "2  대구 동구군위군을   대구\n",
       "3  경기 안양시만안구   경기"
      ]
     },
     "execution_count": 58,
     "metadata": {},
     "output_type": "execute_result"
    }
   ],
   "source": [
    "#선거구2 컬럼을 새로 추가\n",
    "#경남 창원시성산구 -> 경남\n",
    "print(type(member_df['선거구']))\n",
    "print(type(member_df['선거구'].str))\n",
    "#Series객체를 StringMethods 객체로 변환(문자열 슬라이싱을 하기 위해서)\n",
    "temp_str = member_df['선거구'].str\n",
    "#2글자 슬라이싱 값을 선거구2 라는 컬럼으로 저장\n",
    "member_df['선거구2'] = temp_str[:2]\n",
    "\n",
    "member_df.loc[0:3,['선거구','선거구2']]"
   ]
  },
  {
   "cell_type": "code",
   "execution_count": null,
   "id": "859d1912",
   "metadata": {},
   "outputs": [
    {
     "data": {
      "text/plain": [
       "선거구2\n",
       "비례    1\n",
       "대구    1\n",
       "경기    1\n",
       "Name: count, dtype: int64"
      ]
     },
     "execution_count": 59,
     "metadata": {},
     "output_type": "execute_result"
    }
   ],
   "source": [
    "member_df['선거구2'].value_counts()"
   ]
  },
  {
   "cell_type": "code",
   "execution_count": null,
   "id": "15b08504",
   "metadata": {},
   "outputs": [],
   "source": [
    "# Row Counting - normalize=True 속성은 % (퍼센티지) 비율로 나타냄\n",
    "member_df['선거구2'].value_counts(normalize=True)"
   ]
  },
  {
   "cell_type": "code",
   "execution_count": null,
   "id": "f6e1a1c9",
   "metadata": {},
   "outputs": [],
   "source": [
    "member_df['지역비례'].value_counts()"
   ]
  },
  {
   "cell_type": "code",
   "execution_count": null,
   "id": "7a8d7b56",
   "metadata": {},
   "outputs": [],
   "source": [
    "member_df['지역비례'].value_counts(normalize=True)"
   ]
  },
  {
   "cell_type": "code",
   "execution_count": null,
   "id": "a0b39662",
   "metadata": {},
   "outputs": [],
   "source": [
    "member_df['이미지'].tail()"
   ]
  },
  {
   "cell_type": "markdown",
   "id": "9372e517",
   "metadata": {},
   "source": [
    "### 시각화(Visualization)\n",
    "* Image 출력 - IPython에서 제공하는 Image 객체, display() 함수 사용\n",
    "* seaborn - countplot, distplot, heatmap\n",
    "* matplotlib - histogram, pie chart\n",
    "* 한글폰트 설정"
   ]
  },
  {
   "cell_type": "code",
   "execution_count": null,
   "id": "9b22d986",
   "metadata": {},
   "outputs": [],
   "source": []
  },
  {
   "cell_type": "code",
   "execution_count": null,
   "id": "b8c21916",
   "metadata": {},
   "outputs": [],
   "source": [
    "%matplotlib inline"
   ]
  },
  {
   "cell_type": "code",
   "execution_count": null,
   "id": "3d931924",
   "metadata": {},
   "outputs": [],
   "source": [
    "import matplotlib\n",
    "import matplotlib.pyplot as plt\n",
    "import matplotlib.font_manager as fm\n",
    "\n",
    "import seaborn as sns"
   ]
  },
  {
   "cell_type": "code",
   "execution_count": null,
   "id": "62cdba3e",
   "metadata": {},
   "outputs": [
    {
     "name": "stdout",
     "output_type": "stream",
     "text": [
      "Malgun Gothic\n"
     ]
    }
   ],
   "source": [
    "#한글폰트 설정\n",
    "font_path = 'C:\\\\Windows\\\\Fonts\\\\malgun.ttf'\n",
    "# font의 파일정보로 font name을 알아내기\n",
    "font_prop = fm.FontProperties(fname=font_path).get_name()\n",
    "print(font_prop)\n",
    "# matplotlib의 rc(run command) 함수를 사용해서 폰트이름 설정\n",
    "matplotlib.rc('font', family=font_prop)"
   ]
  },
  {
   "cell_type": "markdown",
   "id": "35ccc3c0",
   "metadata": {},
   "source": [
    "## Seaborn 의 막대 그래프\n",
    "- barplot - x축과 y축을 둘 다 설정할 수 있음\n",
    "- countplot - x축 이나 y축 중에서 하나만 설정할 수 있음\n",
    "       #범주형 속성을 가지는 데이터들의 히스토그램을 보여준다.\n",
    "       #종류별로 count를 보여주는 Plot이다."
   ]
  },
  {
   "cell_type": "markdown",
   "id": "de4fea7b",
   "metadata": {},
   "source": [
    "\n"
   ]
  },
  {
   "cell_type": "code",
   "execution_count": null,
   "id": "2dac5b33",
   "metadata": {},
   "outputs": [
    {
     "data": {
      "text/plain": [
       "Index(['조국혁신당', '국민의힘', '더불어민주당'], dtype='object', name='정당')"
      ]
     },
     "execution_count": 45,
     "metadata": {},
     "output_type": "execute_result"
    }
   ],
   "source": [
    "member_df['정당'].value_counts().index\n"
   ]
  },
  {
   "cell_type": "code",
   "execution_count": null,
   "id": "2b232a90",
   "metadata": {},
   "outputs": [
    {
     "data": {
      "image/png": "[encoded data removed]",
      "text/plain": [
       "<Figure size 1800x1200 with 3 Axes>"
      ]
     },
     "metadata": {},
     "output_type": "display_data"
    }
   ],
   "source": [
    "figure, (axes1,axes2,axes3) = plt.subplots(nrows=3, ncols=1)\n",
    "figure.set_size_inches(18,12)\n",
    "\n",
    "sns.countplot(data=member_df, x='정당', ax=axes1, order=member_df['정당'].value_counts().index, hue='정당')\n",
    "sns.countplot(data=member_df, x='당선횟수', ax=axes2, order=member_df['당선횟수'].value_counts().index, hue='당선횟수')\n",
    "sns.countplot(data=member_df, x='성별', ax=axes3, order=member_df['성별'].value_counts().index, hue='성별')\n",
    "\n",
    "plt.show()"
   ]
  },
  {
   "cell_type": "markdown",
   "id": "87b3e800",
   "metadata": {},
   "source": [
    "Matplotlib 의 Pie Plot 그려보기\n"
   ]
  },
  {
   "cell_type": "code",
   "execution_count": null,
   "id": "d5d79ce9",
   "metadata": {},
   "outputs": [
    {
     "name": "stdout",
     "output_type": "stream",
     "text": [
      "Index(['비례', '대구', '경기'], dtype='object', name='선거구2')\n"
     ]
    },
    {
     "data": {
      "text/plain": [
       "선거구2\n",
       "비례    0.333333\n",
       "대구    0.333333\n",
       "경기    0.333333\n",
       "Name: proportion, dtype: float64"
      ]
     },
     "execution_count": 62,
     "metadata": {},
     "output_type": "execute_result"
    }
   ],
   "source": [
    "cdf = member_df['선거구2'].value_counts(normalize=True)\n",
    "print(cdf.index)\n",
    "cdf"
   ]
  },
  {
   "cell_type": "code",
   "execution_count": null,
   "id": "27178824",
   "metadata": {},
   "outputs": [
    {
     "name": "stdout",
     "output_type": "stream",
     "text": [
      "<class 'matplotlib.figure.Figure'>\n"
     ]
    },
    {
     "data": {
      "image/png": "[encoded data removed]",
      "text/plain": [
       "<Figure size 2000x1200 with 1 Axes>"
      ]
     },
     "metadata": {},
     "output_type": "display_data"
    }
   ],
   "source": [
    "# figure size 설정\n",
    "figure = plt.figure(figsize=(20,12))\n",
    "print(type(figure))\n",
    "# pie() 함수 - pie plot을 그려주는 함수\n",
    "plt.pie(cdf, labels=cdf.index, autopct='%1.1f%%', startangle=140, shadow=True)\n",
    "# pie plot을 그릴때 원의 형태를 유지하도록 하는 설정\n",
    "plt.axis('equal')\n",
    "plt.title('선거구 분포값')\n",
    "plt.show()"
   ]
  },
  {
   "cell_type": "code",
   "execution_count": null,
   "id": "edeb6e99",
   "metadata": {},
   "outputs": [],
   "source": [
    "figure, axes1 = plt.subplots(nrows=1, ncols=1)\n",
    "figure.set_size_inches(18,12)\n",
    "\n",
    "_ = sns.histplot(data=member_df, x='정당', ax=axes1, hue='성별', multiple='dodge',\n",
    "             palette={'남': 'blue', '여': 'red'}, shrink=0.8)\n",
    "plt.show()"
   ]
  },
  {
   "cell_type": "code",
   "execution_count": null,
   "id": "ef1937b0",
   "metadata": {},
   "outputs": [],
   "source": [
    "member_df.loc[member_df['정당'] == '조국혁신당',['이름','성별']]"
   ]
  },
  {
   "cell_type": "code",
   "execution_count": null,
   "id": "c073b464",
   "metadata": {},
   "outputs": [],
   "source": [
    "member_df.loc[member_df['정당'] == '조국혁신당',['이름','성별']].groupby('성별').count()\n"
   ]
  },
  {
   "cell_type": "markdown",
   "id": "be47ce6d",
   "metadata": {},
   "source": [
    "## 다중 빈도 막대 그래프 catplot\n",
    "다중 빈도 막대그래프는 countplot() 또는 catplot() 이 있습니다.\n",
    "hue 옵션은 변량을 색상으로 구분하는 파라미터입니다."
   ]
  },
  {
   "cell_type": "code",
   "execution_count": null,
   "id": "874d403e",
   "metadata": {},
   "outputs": [],
   "source": [
    "# 선거구 이름들이 빈도순으로 정렬된 리스트입니다.\n",
    "s_index = member_df['선거구2'].value_counts().index"
   ]
  },
  {
   "cell_type": "code",
   "execution_count": null,
   "id": "e0d4ae97",
   "metadata": {},
   "outputs": [],
   "source": [
    "figure, axes1 = plt.subplots(nrows=1, ncols=1)\n",
    "figure.set_size_inches(24,12)\n",
    "\n",
    "sns.catplot(data=member_df, y='선거구2', hue='성별', kind='count',\n",
    "             palette={'남': 'navy', '여': 'orange'},\n",
    "             order=s_index)"
   ]
  },
  {
   "cell_type": "code",
   "execution_count": null,
   "id": "5171cc85",
   "metadata": {},
   "outputs": [],
   "source": []
  }
 ],
 "metadata": {
  "kernelspec": {
   "display_name": "base",
   "language": "python",
   "name": "python3"
  },
  "language_info": {
   "codemirror_mode": {
    "name": "ipython",
    "version": 3
   },
   "file_extension": ".py",
   "mimetype": "text/x-python",
   "name": "python",
   "nbconvert_exporter": "python",
   "pygments_lexer": "ipython3",
   "version": "3.12.7"
  }
 },
 "nbformat": 4,
 "nbformat_minor": 5
}
